{
  "cells": [
    {
      "cell_type": "markdown",
      "metadata": {
        "id": "2YJxH5VNcYtp"
      },
      "source": [
        "# <center> IIIT Vadodara </center>\n",
        "## <center> Winter 2022-23 </center>\n",
        "## <center> CS/IT 308 Machine Learning Lab </center>\n",
        "## <center> Lab#1 INTRODUCTION </center>"
      ]
    },
    {
      "cell_type": "markdown",
      "metadata": {
        "id": "SC8rZl_fnw1d"
      },
      "source": [
        "## Basic of Numbers in python"
      ]
    },
    {
      "cell_type": "code",
      "execution_count": null,
      "metadata": {
        "id": "Rr8W2uMznw1g",
        "colab": {
          "base_uri": "https://localhost:8080/"
        },
        "outputId": "97e6bfd4-d3b0-4a4f-dc54-ed42a5ca37fb"
      },
      "outputs": [
        {
          "output_type": "stream",
          "name": "stdout",
          "text": [
            "3 <class 'int'>\n",
            "1.0\n"
          ]
        }
      ],
      "source": [
        "x = 3\n",
        "print (x, type(x))"
      ]
    },
    {
      "cell_type": "code",
      "execution_count": null,
      "metadata": {
        "id": "SJouww7Inw1p",
        "colab": {
          "base_uri": "https://localhost:8080/"
        },
        "outputId": "e70baa8f-fa34-4c73-c941-7a6f74f50f64"
      },
      "outputs": [
        {
          "output_type": "stream",
          "name": "stdout",
          "text": [
            "4\n",
            "2\n",
            "6\n",
            "9\n"
          ]
        }
      ],
      "source": [
        "print (x + 1)   # Addition;\n",
        "print (x - 1)   # Subtraction;\n",
        "print (x * 2)   # Multiplication;\n",
        "print (x ** 2)  # Exponentiation;"
      ]
    },
    {
      "cell_type": "code",
      "execution_count": null,
      "metadata": {
        "id": "nj14uZF2nw1z",
        "colab": {
          "base_uri": "https://localhost:8080/"
        },
        "outputId": "497e8d85-7f1e-4c63-d060-681823e730ea"
      },
      "outputs": [
        {
          "output_type": "stream",
          "name": "stdout",
          "text": [
            "4\n",
            "8\n"
          ]
        }
      ],
      "source": [
        "x += 1\n",
        "print (x)  # Prints \"4\"\n",
        "x *= 2\n",
        "print (x)  # Prints \"8\""
      ]
    },
    {
      "cell_type": "code",
      "execution_count": null,
      "metadata": {
        "id": "gUMeY7ILnw16",
        "colab": {
          "base_uri": "https://localhost:8080/"
        },
        "outputId": "70b56d9d-64b9-4624-9ead-cd97b28ad4ac"
      },
      "outputs": [
        {
          "output_type": "stream",
          "name": "stdout",
          "text": [
            "<class 'float'>\n",
            "2.5 3.5 5.0 6.25\n"
          ]
        }
      ],
      "source": [
        "y = 2.5\n",
        "print (type(y) )# Prints \"<type 'float'>\"\n",
        "print (y, y + 1, y * 2, y ** 2) # Prints \"2.5 3.5 5.0 6.25\""
      ]
    },
    {
      "cell_type": "markdown",
      "metadata": {
        "id": "qxvvHiItnw2H"
      },
      "source": [
        "Note that unlike many languages, Python does not have unary increment (x++) or decrement (x--) operators.\n",
        "\n",
        "Python also has built-in types for long integers and complex numbers; you can find all of the details in the [documentation](https://docs.python.org/2/library/stdtypes.html#numeric-types-int-float-long-complex)."
      ]
    },
    {
      "cell_type": "markdown",
      "metadata": {
        "id": "EPF5FeiybxYi"
      },
      "source": [
        "## Numpy \n",
        "Numpy is the core library for scientific computing in Python. It provides a high-performance multidimensional array object, and tools for working with these arrays. If you are already familiar with MATLAB,"
      ]
    },
    {
      "cell_type": "code",
      "execution_count": null,
      "metadata": {
        "id": "zzuw0IDlb4uY"
      },
      "outputs": [],
      "source": [
        "import numpy as np"
      ]
    },
    {
      "cell_type": "markdown",
      "metadata": {
        "id": "UjZvGRYzb6xp"
      },
      "source": [
        "Find details of mathemetical function in numpy  at https://docs.scipy.org/doc/numpy-1.15.0/reference/routines.math.html"
      ]
    },
    {
      "cell_type": "markdown",
      "metadata": {
        "id": "WM95q6CkXwv6"
      },
      "source": [
        "## <font color='red'>1. Evaluate the expression $a^3+\\sqrt{bd}-4c$, where $a=1.2, b=2.3, c=4.5$ and $d=4$.</font> "
      ]
    },
    {
      "cell_type": "code",
      "execution_count": null,
      "metadata": {
        "id": "3CI1OWaFYsyg",
        "colab": {
          "base_uri": "https://localhost:8080/"
        },
        "outputId": "8f400dce-cf20-4f13-9033-45040c18843f"
      },
      "outputs": [
        {
          "output_type": "stream",
          "name": "stdout",
          "text": [
            "-13.23884982237938\n"
          ]
        }
      ],
      "source": [
        "#Write your code\n",
        "import math\n",
        "\n",
        "a = 1.2\n",
        "b = 2.3\n",
        "c = 4.5\n",
        "d = 4\n",
        "\n",
        "result = np.power(a,3) + np.sqrt(b*d) + np.negative(4*c)\n",
        "print(result)"
      ]
    },
    {
      "cell_type": "markdown",
      "metadata": {
        "id": "e_J4a3YEfe6P"
      },
      "source": [
        "## Numpy array indexing and array operations\n",
        "Help to create Numpy array: https://docs.scipy.org/doc/numpy-1.15.0/reference/generated/numpy.array.html#numpy.array\n",
        "\n",
        "Help to create Numpy array indexing:https://docs.scipy.org/doc/numpy-1.15.0/reference/arrays.indexing.html\n",
        "\n",
        "Help to create Numpy for matlab user:https://docs.scipy.org/doc/numpy/user/numpy-for-matlab-users.html\n"
      ]
    },
    {
      "cell_type": "markdown",
      "metadata": {
        "id": "3IPVZYK9dkxa"
      },
      "source": [
        "## <font color='red'>2. Consider the two matrices: </font>\n",
        "\n",
        "$A=\\begin{bmatrix}4 & -6 \\\\6 & 10\n",
        "\\end{bmatrix}$ $B=\\begin{bmatrix}6 & -13 \\\\3.4 & 16\n",
        "\\end{bmatrix}$.\n",
        "## <font color='red'>Find: (a) $A+B$ (b) $B^2$ (c) $AB$ (d) $B^TA^T$ (e) Replace the second column of $A$ with that of $B$. "
      ]
    },
    {
      "cell_type": "code",
      "execution_count": null,
      "metadata": {
        "id": "w-nnu6l4gIY6",
        "colab": {
          "base_uri": "https://localhost:8080/"
        },
        "outputId": "406c58e2-2fab-47dc-f9c2-06b296c296dc"
      },
      "outputs": [
        {
          "output_type": "stream",
          "name": "stdout",
          "text": [
            "A + B = \n",
            " [[ 10.  -19. ]\n",
            " [  9.4  26. ]]\n",
            "B^2 = \n",
            " [[ 36.   169.  ]\n",
            " [ 11.56 256.  ]]\n",
            "A * B = \n",
            " [[   3.6 -148. ]\n",
            " [  70.    82. ]]\n",
            "B^T * A^T = \n",
            " [[ -54.   109.6]\n",
            " [-166.   139.6]]\n",
            "A = \n",
            " [[  4 -13]\n",
            " [  6  16]]\n",
            "B = \n",
            " [[  6.  -13. ]\n",
            " [  3.4  16. ]]\n"
          ]
        }
      ],
      "source": [
        "#write your code\n",
        "import numpy as np\n",
        "\n",
        "A = np.array([[4, -6], [6, 10]])\n",
        "B = np.array([[6, -13], [3.4, 16]])\n",
        "\n",
        "#A+b \n",
        "result = A + B\n",
        "print(\"A + B = \\n\",result)\n",
        "\n",
        "#B^2\n",
        "result = np.square(B)\n",
        "print(\"B^2 = \\n\",result)\n",
        "\n",
        "#AB\n",
        "result = np.dot(A,B)\n",
        "print(\"A * B = \\n\",result)\n",
        "\n",
        "#B^TA^T\n",
        "result = np.dot(np.transpose(A),np.transpose(B))\n",
        "print(\"B^T * A^T = \\n\",result)\n",
        "\n",
        "#Replace second col of A with B\n",
        "A[:,1] = B[:,1]\n",
        "print(\"A = \\n\",A)\n",
        "print(\"B = \\n\",B)"
      ]
    },
    {
      "cell_type": "markdown",
      "metadata": {
        "id": "AaDe3HVi-mgV"
      },
      "source": [
        "## Numpy : Linear *algebra*\n",
        "https://docs.scipy.org/doc/numpy-1.15.0/reference/routines.linalg.html"
      ]
    },
    {
      "cell_type": "markdown",
      "metadata": {
        "id": "QyptrBW578Se"
      },
      "source": [
        "## <font color='red'>3. Find the solution of the following set of linear algebraic equations:$$5x+6y+10z=4$$ $$-3x+14z=10$$ $$-7y+21z=0$$</font> "
      ]
    },
    {
      "cell_type": "code",
      "execution_count": null,
      "metadata": {
        "id": "F6Ta5w348idj",
        "colab": {
          "base_uri": "https://localhost:8080/"
        },
        "outputId": "203cc448-a06c-43af-938e-99d0d8290053"
      },
      "outputs": [
        {
          "output_type": "stream",
          "name": "stdout",
          "text": [
            "x =  -1.4545454545454546\n",
            "y =  1.2077922077922079\n",
            "z =  0.4025974025974026\n"
          ]
        }
      ],
      "source": [
        "#write your code\n",
        "import numpy as np\n",
        "\n",
        "A = np.array([[5, 6, 10], [-3, 0, 14], [0, -7, 21]])\n",
        "B = np.array([4, 10, 0])\n",
        "\n",
        "x, y, z = np.linalg.solve(A, B)\n",
        "\n",
        "print(\"x = \", x)\n",
        "print(\"y = \", y)\n",
        "print(\"z = \", z)\n"
      ]
    },
    {
      "cell_type": "markdown",
      "metadata": {
        "id": "zhGD6rIYCJ8i"
      },
      "source": [
        "## <font color='red'>4. Find the solution of the following set of linear algebraic equations such that $\\Vert Ax-b\\Vert^2_2$is minimized:$$5x+6y+10z=4$$ $$-3x+14z=10$$ $$-7y+21z=0$$$$2x-y+45z=16$$</font> \n",
        "Hint: Use psudo inverse"
      ]
    },
    {
      "cell_type": "code",
      "execution_count": null,
      "metadata": {
        "id": "HyVZ5bHKC6Lr",
        "colab": {
          "base_uri": "https://localhost:8080/"
        },
        "outputId": "af1a2a6b-99e7-400d-e674-45f0282eba0f"
      },
      "outputs": [
        {
          "output_type": "stream",
          "name": "stdout",
          "text": [
            "x =  [-1.46103896  1.2393321   0.43692022]\n",
            "y =  1.1559987631416238\n",
            "z =  -0.03571428571428641\n"
          ]
        }
      ],
      "source": [
        "#write your code\n",
        "import numpy as np\n",
        "\n",
        "A = np.array([[5, 6, 10], [-3, 0, 14], [0, -7, 21], [2, -1, 45]])\n",
        "B = np.array([4, 10, 0, 16])\n",
        "\n",
        "x = np.linalg.pinv(A).dot(B)\n",
        "y = (4-5*x[0]-10*x[2])/6\n",
        "z = (10+3*x[0]-14*x[2])/14\n",
        "\n",
        "print(\"x = \", x)\n",
        "print(\"y = \", y)\n",
        "print(\"z = \", z)"
      ]
    },
    {
      "cell_type": "markdown",
      "metadata": {
        "id": "3B34NIubEbA-"
      },
      "source": [
        "## <font color='red'>5. create following two arrays:\n",
        "(a) Array of ones with 10 elements \n",
        "(b) Array a[1] = 2; a[2] = 3 and a[3] to a[10] are zero</font> "
      ]
    },
    {
      "cell_type": "code",
      "execution_count": null,
      "metadata": {
        "id": "iu6GxTFAFZFP",
        "colab": {
          "base_uri": "https://localhost:8080/"
        },
        "outputId": "ae1cd69c-019d-4fe8-9703-0141b9c27478"
      },
      "outputs": [
        {
          "output_type": "stream",
          "name": "stdout",
          "text": [
            "[1. 1. 1. 1. 1. 1. 1. 1. 1. 1.]\n",
            "[1. 2. 3. 0. 0. 0. 0. 0. 0. 0.]\n"
          ]
        }
      ],
      "source": [
        "#write code here\n",
        "import numpy as np\n",
        "\n",
        "# Array of ones with 10 elements\n",
        "a = np.ones(10)\n",
        "print(a)\n",
        "\n",
        "# Array a[1] = 2; a[2] = 3 and a[3] to a[10] are zero\n",
        "a[1] = 2\n",
        "a[2] = 3\n",
        "a[3:10] = 0\n",
        "\n",
        "print(a)"
      ]
    },
    {
      "cell_type": "markdown",
      "metadata": {
        "id": "OnPJvy9GH1H4"
      },
      "source": [
        "##Numpy: Statistics\n",
        "https://docs.scipy.org/doc/numpy-1.15.1/reference/routines.statistics.html\n",
        "\n",
        "For random sampling : https://docs.scipy.org/doc/numpy-1.15.0/reference/routines.random.html"
      ]
    },
    {
      "cell_type": "markdown",
      "metadata": {
        "id": "C_ODKpdbF758"
      },
      "source": [
        "## <font color='red'>6. Create two arrays indicating marks of students in two subjects. Get average vector of them.</font> "
      ]
    },
    {
      "cell_type": "code",
      "execution_count": null,
      "metadata": {
        "id": "g-ndczyOGJdc",
        "colab": {
          "base_uri": "https://localhost:8080/"
        },
        "outputId": "556951c8-13f6-4a6b-a8be-7997ddc93b13"
      },
      "outputs": [
        {
          "output_type": "stream",
          "name": "stdout",
          "text": [
            "[81.5 88.  83.5 84.5 85. ]\n"
          ]
        }
      ],
      "source": [
        "#write code here\n",
        "import numpy as np\n",
        "\n",
        "# Creating two arrays of marks for students in two subjects\n",
        "marks_maths = np.array([85, 90, 75, 80, 92])\n",
        "marks_science = np.array([78, 86, 92, 89, 78])\n",
        "\n",
        "average_marks = np.mean(np.vstack((marks_maths,marks_science)),axis=0)\n",
        "\n",
        "print(average_marks)\n",
        "\n"
      ]
    },
    {
      "cell_type": "markdown",
      "metadata": {
        "id": "3p0ybKFWbbZO"
      },
      "source": [
        "## Matplotlib: For Plot\n",
        "https://matplotlib.org/tutorials/introductory/pyplot.html#sphx-glr-tutorials-introductory-pyplot-py"
      ]
    },
    {
      "cell_type": "code",
      "execution_count": null,
      "metadata": {
        "id": "5onZQOXoJDbZ"
      },
      "outputs": [],
      "source": [
        "import matplotlib.pyplot as plt\n",
        "%matplotlib inline\n"
      ]
    },
    {
      "cell_type": "markdown",
      "metadata": {
        "id": "Q8aC6tu_IQGE"
      },
      "source": [
        "## <font color='red'>7. Plot the following linear functions:\n",
        "\n",
        "1.   $y=2x+3 $ from $-10\\le x\\le 10$ \n",
        "2.   $y=x-15 $ from $-10\\le x\\le 10$\n",
        "<font>\n"
      ]
    },
    {
      "cell_type": "code",
      "execution_count": null,
      "metadata": {
        "id": "3BPpQrpZnw-q",
        "colab": {
          "base_uri": "https://localhost:8080/",
          "height": 295
        },
        "outputId": "0e1fed75-ae14-42b0-baa9-5b75581bab9d"
      },
      "outputs": [
        {
          "output_type": "display_data",
          "data": {
            "text/plain": [
              "<Figure size 432x288 with 1 Axes>"
            ],
            "image/png": "[encoded data removed]"
          },
          "metadata": {
            "needs_background": "light"
          }
        }
      ],
      "source": [
        "# write code here for 1\n",
        "import matplotlib.pyplot as plt\n",
        "import numpy as np\n",
        "\n",
        "# Create an array of x values from -10 to 10\n",
        "x = np.linspace(-10, 10, 100)\n",
        "\n",
        "# Calculate the corresponding y values for the first function\n",
        "y = 2*x + 3\n",
        "\n",
        "# Plot the first function\n",
        "plt.plot(x, y, label='y = 2x + 3')\n",
        "\n",
        "# Add axis labels and a title\n",
        "plt.xlabel('x')\n",
        "plt.ylabel('y')\n",
        "plt.title('Q.1')\n",
        "\n",
        "# Add a legend\n",
        "plt.legend()\n",
        "\n",
        "# Show the plot\n",
        "plt.show()"
      ]
    },
    {
      "cell_type": "code",
      "execution_count": null,
      "metadata": {
        "id": "4i-cG2VKKBUN",
        "colab": {
          "base_uri": "https://localhost:8080/",
          "height": 295
        },
        "outputId": "439abebe-b7e1-4cb0-85bf-caf01928999d"
      },
      "outputs": [
        {
          "output_type": "display_data",
          "data": {
            "text/plain": [
              "<Figure size 432x288 with 1 Axes>"
            ],
            "image/png": "[encoded data removed]"
          },
          "metadata": {
            "needs_background": "light"
          }
        }
      ],
      "source": [
        "# write code here for 2\n",
        "import matplotlib.pyplot as plt\n",
        "import numpy as np\n",
        "\n",
        "# Create an array of x values from -10 to 10\n",
        "x = np.linspace(-10, 10, 100)\n",
        "\n",
        "# Calculate the corresponding y values for the second function\n",
        "y = x - 15\n",
        "\n",
        "# Plot the second function\n",
        "plt.plot(x, y, label='y = x - 15')\n",
        "\n",
        "# Add axis labels and a title\n",
        "plt.xlabel('x')\n",
        "plt.ylabel('y')\n",
        "plt.title('Q.2')\n",
        "\n",
        "# Add a legend\n",
        "plt.legend()\n",
        "\n",
        "# Show the plot\n",
        "plt.show()"
      ]
    },
    {
      "cell_type": "markdown",
      "metadata": {
        "id": "jdlxVdsxcYuD"
      },
      "source": [
        "## <font color='red'>8. Plot the following non-linear functions:\n",
        "\n",
        "1.   $y=2x^2+3x+1 $ from $-10\\le x\\le 10$ \n",
        "2.   $y=x^3+1 $ from $-10\\le x\\le 10$\n",
        "<font>"
      ]
    },
    {
      "cell_type": "code",
      "execution_count": null,
      "metadata": {
        "id": "07HnsfnSdjqk",
        "colab": {
          "base_uri": "https://localhost:8080/",
          "height": 295
        },
        "outputId": "60ab38bf-7a2a-4104-c0fa-dd526c095733"
      },
      "outputs": [
        {
          "output_type": "display_data",
          "data": {
            "text/plain": [
              "<Figure size 432x288 with 1 Axes>"
            ],
            "image/png": "[encoded data removed]"
          },
          "metadata": {
            "needs_background": "light"
          }
        }
      ],
      "source": [
        "# write code here for 3\n",
        "import matplotlib.pyplot as plt\n",
        "import numpy as np\n",
        "\n",
        "# Create an array of x values from -10 to 10\n",
        "x = np.linspace(-10, 10, 100)\n",
        "\n",
        "# Calculate the corresponding y values for the first function\n",
        "y = 2*x**2 + 3*x + 1\n",
        "\n",
        "# Plot the first function\n",
        "plt.plot(x, y, label='y = 2x^2+3x+1')\n",
        "\n",
        "# Add axis labels and a title\n",
        "plt.xlabel('x')\n",
        "plt.ylabel('y')\n",
        "plt.title('Q.3')\n",
        "\n",
        "# Add a legend\n",
        "plt.legend()\n",
        "\n",
        "# Show the plot\n",
        "plt.show()"
      ]
    },
    {
      "cell_type": "code",
      "execution_count": null,
      "metadata": {
        "id": "zH53q0TcdkPv",
        "colab": {
          "base_uri": "https://localhost:8080/",
          "height": 295
        },
        "outputId": "d59f53d7-e8bd-4546-d942-97d47bb18193"
      },
      "outputs": [
        {
          "output_type": "display_data",
          "data": {
            "text/plain": [
              "<Figure size 432x288 with 1 Axes>"
            ],
            "image/png": "[encoded data removed]"
          },
          "metadata": {
            "needs_background": "light"
          }
        }
      ],
      "source": [
        "# write code here for 4\n",
        "import matplotlib.pyplot as plt\n",
        "import numpy as np\n",
        "\n",
        "# Create an array of x values from -10 to 10\n",
        "x = np.linspace(-10, 10, 100)\n",
        "\n",
        "# Calculate the corresponding y values for the first function\n",
        "y = x**3 + 1\n",
        "\n",
        "# Plot the first function\n",
        "plt.plot(x, y, label='y = x^3+1')\n",
        "\n",
        "# Add axis labels and a title\n",
        "plt.xlabel('x')\n",
        "plt.ylabel('y')\n",
        "plt.title('Q.4')\n",
        "\n",
        "# Add a legend\n",
        "plt.legend()\n",
        "\n",
        "# Show the plot\n",
        "plt.show()"
      ]
    },
    {
      "cell_type": "markdown",
      "metadata": {
        "id": "GobP2IePGThL"
      },
      "source": [
        "## <font color='red'>9. Write code to verify whether the given vectors are linearly independent or not.\n",
        "v1 = [6 0 3 1 4 2];\n",
        "v2 = [0 -1 2 7 0 5];\n",
        "v3 = [12 3 0 -19 8 -11].</font> \n",
        "\n",
        "Hint: You can use matrix rank or rref form with help of numpy.linalg library "
      ]
    },
    {
      "cell_type": "code",
      "execution_count": null,
      "metadata": {
        "id": "hYOPaUUqG0-Y",
        "colab": {
          "base_uri": "https://localhost:8080/"
        },
        "outputId": "f8982ddb-d1c6-49d3-d387-ceafee1cfb66"
      },
      "outputs": [
        {
          "output_type": "stream",
          "name": "stdout",
          "text": [
            "linearly dependent\n"
          ]
        }
      ],
      "source": [
        "#write code here\n",
        "import numpy as np\n",
        "\n",
        "v1 = [6, 0, 3, 1, 4, 2]\n",
        "v2 = [0, -1, 2, 7, 0, 5]\n",
        "v3 = [12, 3, 0, -19, 8, -11]\n",
        "\n",
        "M = np.array([v1, v2, v3])\n",
        "\n",
        "if np.linalg.matrix_rank(M) == 3:\n",
        "    print('linearly independent')\n",
        "else:\n",
        "    print('linearly dependent')\n"
      ]
    },
    {
      "cell_type": "markdown",
      "metadata": {
        "id": "dHjk5I0QM3S0"
      },
      "source": [
        "## <font color='red'>10. For real symmetric matrix.  \n",
        "1.   Find the Eigen values and eigen vectors\n",
        "2.   Verify properties of Eigen values and Eigen vector.</font>\n",
        "\n",
        "As example, $A=\\begin{bmatrix}1 & 2 & 3 \\\\2 & 5 & 6\\\\3 & 6 & 7\n",
        "\\end{bmatrix}$"
      ]
    },
    {
      "cell_type": "code",
      "execution_count": null,
      "metadata": {
        "id": "pIwy4pqQN1cn",
        "colab": {
          "base_uri": "https://localhost:8080/"
        },
        "outputId": "820a619b-fcb9-4bfd-fe57-83d0e96ba651"
      },
      "outputs": [
        {
          "output_type": "stream",
          "name": "stdout",
          "text": [
            "eigen values = \n",
            " [13.14061745  0.32610415 -0.4667216 ]\n",
            "eigen vectors = \n",
            " [[-0.28323481 -0.68784863 -0.66831303]\n",
            " [-0.61312867  0.66571204 -0.42532424]\n",
            " [-0.73746272 -0.28929525  0.61029254]]\n",
            "A * e_vectors = \n",
            " [[-3.72188033 -0.22431029  0.31191613]\n",
            " [-8.05688934  0.21709146  0.19850801]\n",
            " [-9.69071555 -0.09434038 -0.28483671]]\n",
            "A * e_values = \n",
            " [[-3.72188033 -0.22431029  0.31191613]\n",
            " [-8.05688934  0.21709146  0.19850801]\n",
            " [-9.69071555 -0.09434038 -0.28483671]]\n",
            "A * e_vectors =  A * e_values\n"
          ]
        }
      ],
      "source": [
        "#write code here\n",
        "import numpy as np\n",
        "\n",
        "A = np.array([[1, 2, 3], [2, 5, 6], [3, 6, 7]])\n",
        "e_values, e_vectors = np.linalg.eig(A)\n",
        "\n",
        "print(\"eigen values = \\n\",e_values)\n",
        "print(\"eigen vectors = \\n\",e_vectors)\n",
        "\n",
        "print(\"A * e_vectors = \\n\", np.dot(A,e_vectors))\n",
        "print(\"A * e_values = \\n\", e_vectors*e_values)\n",
        "print(\"A * e_vectors =  A * e_values\")"
      ]
    },
    {
      "cell_type": "markdown",
      "metadata": {
        "id": "167i2Ni7X1oZ"
      },
      "source": [
        "## Python Function:\n",
        "https://www.tutorialspoint.com/python/python_functions.htm"
      ]
    },
    {
      "cell_type": "markdown",
      "metadata": {
        "id": "iauUBzH2SKPk"
      },
      "source": [
        "## <font color='red'>11. Write code for the following:\n",
        "  \n",
        "\n",
        "1.   Create a column vector with 10 values of temperature in degree centigrade $C^\\circ$\n",
        "2.   Convert each of the temperature values in degree Fahrenheit using the formula $$F^\\circ=\\frac{9}{2}C^\\circ+32$$\n",
        "1.   Make the final matrix with temperature values in $C^\\circ$ as the first column and in F as the second column.\n",
        "<font>\n",
        "\n"
      ]
    },
    {
      "cell_type": "code",
      "execution_count": null,
      "metadata": {
        "id": "RDtWZvYuTsPS"
      },
      "outputs": [],
      "source": [
        "def ctof(carr):\n",
        "  #write code here to convert c to f\n",
        "  farr = [1.8*c + 32 for c in carr]\n",
        "  return farr"
      ]
    },
    {
      "cell_type": "code",
      "execution_count": null,
      "metadata": {
        "id": "DqwYVjmWUz4H",
        "colab": {
          "base_uri": "https://localhost:8080/"
        },
        "outputId": "5d7c25fe-afb6-4443-8a5c-7b6a4f48b5d8"
      },
      "outputs": [
        {
          "output_type": "stream",
          "name": "stdout",
          "text": [
            "[0, 5, 10, 15, 20, 25, 30, 35, 40, 45]\n"
          ]
        }
      ],
      "source": [
        "#write code for 1\n",
        "import numpy as np\n",
        "temp_in_celcius = [0,5,10,15,20,25,30,35,40,45]\n",
        "print(temp_in_celcius)"
      ]
    },
    {
      "cell_type": "code",
      "execution_count": null,
      "metadata": {
        "id": "--ytBr4EYEL_",
        "colab": {
          "base_uri": "https://localhost:8080/"
        },
        "outputId": "fb7d9999-c33a-4dbc-f6d1-2f3ccbccba36"
      },
      "outputs": [
        {
          "output_type": "stream",
          "name": "stdout",
          "text": [
            "[32.0, 41.0, 50.0, 59.0, 68.0, 77.0, 86.0, 95.0, 104.0, 113.0]\n"
          ]
        }
      ],
      "source": [
        "#write code for 2\n",
        "temp_in_fahrenheit = ctof(temp_in_celcius)\n",
        "print(temp_in_fahrenheit)"
      ]
    },
    {
      "cell_type": "code",
      "execution_count": null,
      "metadata": {
        "id": "jHbry5XnYNpN",
        "colab": {
          "base_uri": "https://localhost:8080/"
        },
        "outputId": "e302b262-f3b1-448d-bf3c-c83f01ea8ddd"
      },
      "outputs": [
        {
          "output_type": "stream",
          "name": "stdout",
          "text": [
            "[[  0.   5.  10.  15.  20.  25.  30.  35.  40.  45.]\n",
            " [ 32.  41.  50.  59.  68.  77.  86.  95. 104. 113.]]\n"
          ]
        }
      ],
      "source": [
        "#write code for 3\n",
        "final_matrix = np.array([temp_in_celcius,temp_in_fahrenheit])\n",
        "np.transpose(final_matrix)\n",
        "print(final_matrix)"
      ]
    },
    {
      "cell_type": "markdown",
      "metadata": {
        "id": "7R2JhXrrY9-2"
      },
      "source": [
        "## Python : Control statements\n",
        "if else: https://www.w3schools.com/python/python_conditions.asp\n",
        "\n",
        "while loop : https://www.w3schools.com/python/python_while_loops.asp\n",
        "\n",
        "for loop : https://www.w3schools.com/python/python_for_loops.asp"
      ]
    },
    {
      "cell_type": "markdown",
      "metadata": {
        "id": "ER-fUvoFYir-"
      },
      "source": [
        "## <font color='red'>12. Determine the probability of 3 heads in 4 tosses of a coin with probability of head being $p=0.75$. Use a relative frequency interpretation of probability to yield the result."
      ]
    },
    {
      "cell_type": "code",
      "execution_count": null,
      "metadata": {
        "id": "80ti1ZQTY8UF",
        "colab": {
          "base_uri": "https://localhost:8080/"
        },
        "outputId": "53dc4426-803d-4736-d2e0-58f8e3583812"
      },
      "outputs": [
        {
          "output_type": "stream",
          "name": "stdout",
          "text": [
            "0.421875\n"
          ]
        }
      ],
      "source": [
        "#write code here\n",
        "p_A = 0.25\n",
        "p_B = 0.75\n",
        "total_probability = p_A * p_B**3 + p_B**4\n",
        "print(total_probability)"
      ]
    },
    {
      "cell_type": "markdown",
      "metadata": {
        "id": "uqQyo3jNd3Df"
      },
      "source": [
        "## <font color='red'>13. Write a program that will add all the numbers corresponding to the even indices of an array. Use that program to find the sum of all even integers from 1 to 1000.<font>"
      ]
    },
    {
      "cell_type": "code",
      "execution_count": null,
      "metadata": {
        "id": "JzmE6DJJeYvH"
      },
      "outputs": [],
      "source": [
        "#hint: Write your program as follows: where x is the input vector, and y is the sum of all the numbers corresponding to the even indices of x. \n",
        "def addeven(x):\n",
        "  #write code here\n",
        "  count = 0\n",
        "  sum = 0\n",
        "  for i in x:\n",
        "    if(count%2 == 0):\n",
        "      sum += i;\n",
        "    count += 1\n",
        "  return sum"
      ]
    },
    {
      "cell_type": "code",
      "execution_count": null,
      "metadata": {
        "id": "swRSzjrUeu3D",
        "colab": {
          "base_uri": "https://localhost:8080/"
        },
        "outputId": "b94bab32-47d5-46b4-89d1-97c0ea220dfd"
      },
      "outputs": [
        {
          "output_type": "stream",
          "name": "stdout",
          "text": [
            "[1, 2, 3, 4, 5, 6, 7, 8, 9, 10, 11, 12, 13, 14, 15, 16, 17, 18, 19, 20, 21, 22, 23, 24, 25, 26, 27, 28, 29, 30, 31, 32, 33, 34, 35, 36, 37, 38, 39, 40, 41, 42, 43, 44, 45, 46, 47, 48, 49, 50, 51, 52, 53, 54, 55, 56, 57, 58, 59, 60, 61, 62, 63, 64, 65, 66, 67, 68, 69, 70, 71, 72, 73, 74, 75, 76, 77, 78, 79, 80, 81, 82, 83, 84, 85, 86, 87, 88, 89, 90, 91, 92, 93, 94, 95, 96, 97, 98, 99, 100, 101, 102, 103, 104, 105, 106, 107, 108, 109, 110, 111, 112, 113, 114, 115, 116, 117, 118, 119, 120, 121, 122, 123, 124, 125, 126, 127, 128, 129, 130, 131, 132, 133, 134, 135, 136, 137, 138, 139, 140, 141, 142, 143, 144, 145, 146, 147, 148, 149, 150, 151, 152, 153, 154, 155, 156, 157, 158, 159, 160, 161, 162, 163, 164, 165, 166, 167, 168, 169, 170, 171, 172, 173, 174, 175, 176, 177, 178, 179, 180, 181, 182, 183, 184, 185, 186, 187, 188, 189, 190, 191, 192, 193, 194, 195, 196, 197, 198, 199, 200, 201, 202, 203, 204, 205, 206, 207, 208, 209, 210, 211, 212, 213, 214, 215, 216, 217, 218, 219, 220, 221, 222, 223, 224, 225, 226, 227, 228, 229, 230, 231, 232, 233, 234, 235, 236, 237, 238, 239, 240, 241, 242, 243, 244, 245, 246, 247, 248, 249, 250, 251, 252, 253, 254, 255, 256, 257, 258, 259, 260, 261, 262, 263, 264, 265, 266, 267, 268, 269, 270, 271, 272, 273, 274, 275, 276, 277, 278, 279, 280, 281, 282, 283, 284, 285, 286, 287, 288, 289, 290, 291, 292, 293, 294, 295, 296, 297, 298, 299, 300, 301, 302, 303, 304, 305, 306, 307, 308, 309, 310, 311, 312, 313, 314, 315, 316, 317, 318, 319, 320, 321, 322, 323, 324, 325, 326, 327, 328, 329, 330, 331, 332, 333, 334, 335, 336, 337, 338, 339, 340, 341, 342, 343, 344, 345, 346, 347, 348, 349, 350, 351, 352, 353, 354, 355, 356, 357, 358, 359, 360, 361, 362, 363, 364, 365, 366, 367, 368, 369, 370, 371, 372, 373, 374, 375, 376, 377, 378, 379, 380, 381, 382, 383, 384, 385, 386, 387, 388, 389, 390, 391, 392, 393, 394, 395, 396, 397, 398, 399, 400, 401, 402, 403, 404, 405, 406, 407, 408, 409, 410, 411, 412, 413, 414, 415, 416, 417, 418, 419, 420, 421, 422, 423, 424, 425, 426, 427, 428, 429, 430, 431, 432, 433, 434, 435, 436, 437, 438, 439, 440, 441, 442, 443, 444, 445, 446, 447, 448, 449, 450, 451, 452, 453, 454, 455, 456, 457, 458, 459, 460, 461, 462, 463, 464, 465, 466, 467, 468, 469, 470, 471, 472, 473, 474, 475, 476, 477, 478, 479, 480, 481, 482, 483, 484, 485, 486, 487, 488, 489, 490, 491, 492, 493, 494, 495, 496, 497, 498, 499, 500, 501, 502, 503, 504, 505, 506, 507, 508, 509, 510, 511, 512, 513, 514, 515, 516, 517, 518, 519, 520, 521, 522, 523, 524, 525, 526, 527, 528, 529, 530, 531, 532, 533, 534, 535, 536, 537, 538, 539, 540, 541, 542, 543, 544, 545, 546, 547, 548, 549, 550, 551, 552, 553, 554, 555, 556, 557, 558, 559, 560, 561, 562, 563, 564, 565, 566, 567, 568, 569, 570, 571, 572, 573, 574, 575, 576, 577, 578, 579, 580, 581, 582, 583, 584, 585, 586, 587, 588, 589, 590, 591, 592, 593, 594, 595, 596, 597, 598, 599, 600, 601, 602, 603, 604, 605, 606, 607, 608, 609, 610, 611, 612, 613, 614, 615, 616, 617, 618, 619, 620, 621, 622, 623, 624, 625, 626, 627, 628, 629, 630, 631, 632, 633, 634, 635, 636, 637, 638, 639, 640, 641, 642, 643, 644, 645, 646, 647, 648, 649, 650, 651, 652, 653, 654, 655, 656, 657, 658, 659, 660, 661, 662, 663, 664, 665, 666, 667, 668, 669, 670, 671, 672, 673, 674, 675, 676, 677, 678, 679, 680, 681, 682, 683, 684, 685, 686, 687, 688, 689, 690, 691, 692, 693, 694, 695, 696, 697, 698, 699, 700, 701, 702, 703, 704, 705, 706, 707, 708, 709, 710, 711, 712, 713, 714, 715, 716, 717, 718, 719, 720, 721, 722, 723, 724, 725, 726, 727, 728, 729, 730, 731, 732, 733, 734, 735, 736, 737, 738, 739, 740, 741, 742, 743, 744, 745, 746, 747, 748, 749, 750, 751, 752, 753, 754, 755, 756, 757, 758, 759, 760, 761, 762, 763, 764, 765, 766, 767, 768, 769, 770, 771, 772, 773, 774, 775, 776, 777, 778, 779, 780, 781, 782, 783, 784, 785, 786, 787, 788, 789, 790, 791, 792, 793, 794, 795, 796, 797, 798, 799, 800, 801, 802, 803, 804, 805, 806, 807, 808, 809, 810, 811, 812, 813, 814, 815, 816, 817, 818, 819, 820, 821, 822, 823, 824, 825, 826, 827, 828, 829, 830, 831, 832, 833, 834, 835, 836, 837, 838, 839, 840, 841, 842, 843, 844, 845, 846, 847, 848, 849, 850, 851, 852, 853, 854, 855, 856, 857, 858, 859, 860, 861, 862, 863, 864, 865, 866, 867, 868, 869, 870, 871, 872, 873, 874, 875, 876, 877, 878, 879, 880, 881, 882, 883, 884, 885, 886, 887, 888, 889, 890, 891, 892, 893, 894, 895, 896, 897, 898, 899, 900, 901, 902, 903, 904, 905, 906, 907, 908, 909, 910, 911, 912, 913, 914, 915, 916, 917, 918, 919, 920, 921, 922, 923, 924, 925, 926, 927, 928, 929, 930, 931, 932, 933, 934, 935, 936, 937, 938, 939, 940, 941, 942, 943, 944, 945, 946, 947, 948, 949, 950, 951, 952, 953, 954, 955, 956, 957, 958, 959, 960, 961, 962, 963, 964, 965, 966, 967, 968, 969, 970, 971, 972, 973, 974, 975, 976, 977, 978, 979, 980, 981, 982, 983, 984, 985, 986, 987, 988, 989, 990, 991, 992, 993, 994, 995, 996, 997, 998, 999, 1000]\n"
          ]
        },
        {
          "output_type": "execute_result",
          "data": {
            "text/plain": [
              "250000"
            ]
          },
          "metadata": {},
          "execution_count": 59
        }
      ],
      "source": [
        "import numpy as np\n",
        "a = list(range(1,1001))\n",
        "print(a)\n",
        "addeven(a)"
      ]
    },
    {
      "cell_type": "markdown",
      "metadata": {
        "id": "VEF3kNXLcYuK"
      },
      "source": [
        "## <font color='red'>14. Write a program to generate random number.<font>\n",
        "    Hint: use Linear Congruential Generator. link: https://en.wikipedia.org/wiki/Linear_congruential_generator"
      ]
    },
    {
      "cell_type": "code",
      "execution_count": null,
      "metadata": {
        "id": "Ynr6k8kIcYuK",
        "colab": {
          "base_uri": "https://localhost:8080/"
        },
        "outputId": "d7eafa12-324a-4473-c8fc-ebc936620256"
      },
      "outputs": [
        {
          "output_type": "stream",
          "name": "stdout",
          "text": [
            "[5, 6, 17, 3, 11, 18, 14, 24, 26, 21, 20, 9, 23, 15, 8, 12, 2, 0, 5, 6, 17, 3, 11, 18, 14, 24, 26, 21, 20, 9, 23, 15, 8, 12, 2, 0, 5, 6, 17, 3, 11, 18, 14, 24, 26, 21, 20, 9, 23, 15, 8, 12, 2, 0, 5, 6, 17, 3, 11, 18, 14, 24, 26, 21, 20, 9, 23, 15, 8, 12, 2, 0, 5, 6, 17, 3, 11, 18, 14, 24, 26, 21, 20, 9, 23, 15, 8, 12, 2, 0, 5, 6, 17, 3, 11, 18, 14, 24, 26, 21]\n"
          ]
        }
      ],
      "source": [
        "# seed value [0,m)\n",
        "x0 = 2\n",
        "# modulus \n",
        "m = 27\n",
        "# multiplier (0,m)\n",
        "a = 11\n",
        "# incrementer (0,m)\n",
        "c = 5\n",
        "\n",
        "random_numbers = [x0]\n",
        "len = 100\n",
        "random_numbers = [0]*100\n",
        "\n",
        "for i in range(len):\n",
        "  # formula : xi+1 = (a*xi + c) mod m\n",
        "  random_numbers[i] = (a*random_numbers[i-1] + c) % m\n",
        "\n",
        "print(random_numbers)\n"
      ]
    },
    {
      "cell_type": "markdown",
      "source": [
        "## <font color='red'>15. Generate 3 random integers between 100 and 999 which is divisible by 5.<font>"
      ],
      "metadata": {
        "id": "0Ojy5a_GoxF7"
      }
    },
    {
      "cell_type": "code",
      "source": [
        "import random\n",
        "for i in range(3) :\n",
        "  temp = random.randint(100,999+1)\n",
        "  number = math.ceil(temp / 5) * 5\n",
        "  print(number)"
      ],
      "metadata": {
        "colab": {
          "base_uri": "https://localhost:8080/"
        },
        "id": "OPqu6xiXoz8R",
        "outputId": "65babd47-9dc7-489e-f468-2277d19317c9"
      },
      "execution_count": null,
      "outputs": [
        {
          "output_type": "stream",
          "name": "stdout",
          "text": [
            "295\n",
            "210\n",
            "660\n"
          ]
        }
      ]
    },
    {
      "cell_type": "markdown",
      "source": [
        "## <font color='red'>16. Generate a random password which meets the following conditions.<font>\n",
        "1) Password length must be 10 characters long.\n",
        "\n",
        "2) It must contain at least 2 upper case letters, 1 digit, and 1 special symbol."
      ],
      "metadata": {
        "id": "Kx4caG7DqDpe"
      }
    },
    {
      "cell_type": "code",
      "source": [
        "import random\n",
        "import string\n",
        "import itertools \n",
        "\n",
        "lowercase_letters = string.ascii_lowercase\n",
        "uppercase_letters = string.ascii_uppercase\n",
        "digits = string.digits\n",
        "special_characters = string.punctuation\n",
        "total_letters = lowercase_letters + uppercase_letters + digits + special_characters\n",
        "\n",
        "pwd = ''.join((random.choice(total_letters) for i in range(6)))\n",
        "pwd += random.choice(uppercase_letters)\n",
        "pwd += random.choice(uppercase_letters)\n",
        "pwd += random.choice(lowercase_letters)\n",
        "pwd += random.choice(digits)\n",
        "pwd += random.choice(special_characters)\n",
        "\n",
        "print(pwd)"
      ],
      "metadata": {
        "colab": {
          "base_uri": "https://localhost:8080/"
        },
        "id": "G5f1cz5JqLVz",
        "outputId": "44ed0da6-968f-4b89-cb61-9b9a88a5b061"
      },
      "execution_count": null,
      "outputs": [
        {
          "output_type": "stream",
          "name": "stdout",
          "text": [
            "Qf};4>QId9'\n"
          ]
        }
      ]
    }
  ],
  "metadata": {
    "accelerator": "GPU",
    "colab": {
      "provenance": []
    },
    "kernelspec": {
      "display_name": "Python 3",
      "language": "python",
      "name": "python3"
    },
    "language_info": {
      "codemirror_mode": {
        "name": "ipython",
        "version": 3
      },
      "file_extension": ".py",
      "mimetype": "text/x-python",
      "name": "python",
      "nbconvert_exporter": "python",
      "pygments_lexer": "ipython3",
      "version": "3.8.5"
    }
  },
  "nbformat": 4,
  "nbformat_minor": 0
}