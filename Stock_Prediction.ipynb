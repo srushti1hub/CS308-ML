{
  "cells": [
    {
      "cell_type": "markdown",
      "metadata": {
        "id": "FPYU6VPJ8uQE"
      },
      "source": [
        "### Stock Market Prediction And Forecasting Using Stacked LSTM"
      ]
    },
    {
      "cell_type": "code",
      "execution_count": null,
      "metadata": {
        "id": "axNIZiWB8uQI"
      },
      "outputs": [],
      "source": [
        "import pandas_datareader as pdr"
      ]
    },
    {
      "cell_type": "code",
      "execution_count": null,
      "metadata": {
        "id": "3qvVx0Iq8uQJ"
      },
      "outputs": [],
      "source": [
        "import pandas as pd\n",
        "df = pd.read_csv('NIFTY-50_Data.csv')"
      ]
    },
    {
      "cell_type": "code",
      "source": [
        "df.head()"
      ],
      "metadata": {
        "colab": {
          "base_uri": "https://localhost:8080/",
          "height": 206
        },
        "id": "Nrj5UonPF4s-",
        "outputId": "f7307c6c-5d58-429a-980e-1fbb6958373c"
      },
      "execution_count": null,
      "outputs": [
        {
          "output_type": "execute_result",
          "data": {
            "text/plain": [
              "          Date      Open      High       Low     Close\n",
              "0  29 Mar 2023  16977.30  17126.15  16940.60  17080.70\n",
              "1  28 Mar 2023  17031.75  17061.75  16913.75  16951.70\n",
              "2  27 Mar 2023  16984.30  17091.00  16918.55  16985.70\n",
              "3  24 Mar 2023  17076.20  17109.45  16917.35  16945.05\n",
              "4  23 Mar 2023  17097.40  17205.40  17045.30  17076.90"
            ],
            "text/html": [
              "\n",
              "  <div id=\"df-b6862dac-d778-41d1-82e7-d371816d7479\">\n",
              "    <div class=\"colab-df-container\">\n",
              "      <div>\n",
              "<style scoped>\n",
              "    .dataframe tbody tr th:only-of-type {\n",
              "        vertical-align: middle;\n",
              "    }\n",
              "\n",
              "    .dataframe tbody tr th {\n",
              "        vertical-align: top;\n",
              "    }\n",
              "\n",
              "    .dataframe thead th {\n",
              "        text-align: right;\n",
              "    }\n",
              "</style>\n",
              "<table border=\"1\" class=\"dataframe\">\n",
              "  <thead>\n",
              "    <tr style=\"text-align: right;\">\n",
              "      <th></th>\n",
              "      <th>Date</th>\n",
              "      <th>Open</th>\n",
              "      <th>High</th>\n",
              "      <th>Low</th>\n",
              "      <th>Close</th>\n",
              "    </tr>\n",
              "  </thead>\n",
              "  <tbody>\n",
              "    <tr>\n",
              "      <th>0</th>\n",
              "      <td>29 Mar 2023</td>\n",
              "      <td>16977.30</td>\n",
              "      <td>17126.15</td>\n",
              "      <td>16940.60</td>\n",
              "      <td>17080.70</td>\n",
              "    </tr>\n",
              "    <tr>\n",
              "      <th>1</th>\n",
              "      <td>28 Mar 2023</td>\n",
              "      <td>17031.75</td>\n",
              "      <td>17061.75</td>\n",
              "      <td>16913.75</td>\n",
              "      <td>16951.70</td>\n",
              "    </tr>\n",
              "    <tr>\n",
              "      <th>2</th>\n",
              "      <td>27 Mar 2023</td>\n",
              "      <td>16984.30</td>\n",
              "      <td>17091.00</td>\n",
              "      <td>16918.55</td>\n",
              "      <td>16985.70</td>\n",
              "    </tr>\n",
              "    <tr>\n",
              "      <th>3</th>\n",
              "      <td>24 Mar 2023</td>\n",
              "      <td>17076.20</td>\n",
              "      <td>17109.45</td>\n",
              "      <td>16917.35</td>\n",
              "      <td>16945.05</td>\n",
              "    </tr>\n",
              "    <tr>\n",
              "      <th>4</th>\n",
              "      <td>23 Mar 2023</td>\n",
              "      <td>17097.40</td>\n",
              "      <td>17205.40</td>\n",
              "      <td>17045.30</td>\n",
              "      <td>17076.90</td>\n",
              "    </tr>\n",
              "  </tbody>\n",
              "</table>\n",
              "</div>\n",
              "      <button class=\"colab-df-convert\" onclick=\"convertToInteractive('df-b6862dac-d778-41d1-82e7-d371816d7479')\"\n",
              "              title=\"Convert this dataframe to an interactive table.\"\n",
              "              style=\"display:none;\">\n",
              "        \n",
              "  <svg xmlns=\"http://www.w3.org/2000/svg\" height=\"24px\"viewBox=\"0 0 24 24\"\n",
              "       width=\"24px\">\n",
              "    <path d=\"M0 0h24v24H0V0z\" fill=\"none\"/>\n",
              "    <path d=\"M18.56 5.44l.94 2.06.94-2.06 2.06-.94-2.06-.94-.94-2.06-.94 2.06-2.06.94zm-11 1L8.5 8.5l.94-2.06 2.06-.94-2.06-.94L8.5 2.5l-.94 2.06-2.06.94zm10 10l.94 2.06.94-2.06 2.06-.94-2.06-.94-.94-2.06-.94 2.06-2.06.94z\"/><path d=\"M17.41 7.96l-1.37-1.37c-.4-.4-.92-.59-1.43-.59-.52 0-1.04.2-1.43.59L10.3 9.45l-7.72 7.72c-.78.78-.78 2.05 0 2.83L4 21.41c.39.39.9.59 1.41.59.51 0 1.02-.2 1.41-.59l7.78-7.78 2.81-2.81c.8-.78.8-2.07 0-2.86zM5.41 20L4 18.59l7.72-7.72 1.47 1.35L5.41 20z\"/>\n",
              "  </svg>\n",
              "      </button>\n",
              "      \n",
              "  <style>\n",
              "    .colab-df-container {\n",
              "      display:flex;\n",
              "      flex-wrap:wrap;\n",
              "      gap: 12px;\n",
              "    }\n",
              "\n",
              "    .colab-df-convert {\n",
              "      background-color: #E8F0FE;\n",
              "      border: none;\n",
              "      border-radius: 50%;\n",
              "      cursor: pointer;\n",
              "      display: none;\n",
              "      fill: #1967D2;\n",
              "      height: 32px;\n",
              "      padding: 0 0 0 0;\n",
              "      width: 32px;\n",
              "    }\n",
              "\n",
              "    .colab-df-convert:hover {\n",
              "      background-color: #E2EBFA;\n",
              "      box-shadow: 0px 1px 2px rgba(60, 64, 67, 0.3), 0px 1px 3px 1px rgba(60, 64, 67, 0.15);\n",
              "      fill: #174EA6;\n",
              "    }\n",
              "\n",
              "    [theme=dark] .colab-df-convert {\n",
              "      background-color: #3B4455;\n",
              "      fill: #D2E3FC;\n",
              "    }\n",
              "\n",
              "    [theme=dark] .colab-df-convert:hover {\n",
              "      background-color: #434B5C;\n",
              "      box-shadow: 0px 1px 3px 1px rgba(0, 0, 0, 0.15);\n",
              "      filter: drop-shadow(0px 1px 2px rgba(0, 0, 0, 0.3));\n",
              "      fill: #FFFFFF;\n",
              "    }\n",
              "  </style>\n",
              "\n",
              "      <script>\n",
              "        const buttonEl =\n",
              "          document.querySelector('#df-b6862dac-d778-41d1-82e7-d371816d7479 button.colab-df-convert');\n",
              "        buttonEl.style.display =\n",
              "          google.colab.kernel.accessAllowed ? 'block' : 'none';\n",
              "\n",
              "        async function convertToInteractive(key) {\n",
              "          const element = document.querySelector('#df-b6862dac-d778-41d1-82e7-d371816d7479');\n",
              "          const dataTable =\n",
              "            await google.colab.kernel.invokeFunction('convertToInteractive',\n",
              "                                                     [key], {});\n",
              "          if (!dataTable) return;\n",
              "\n",
              "          const docLinkHtml = 'Like what you see? Visit the ' +\n",
              "            '<a target=\"_blank\" href=https://colab.research.google.com/notebooks/data_table.ipynb>data table notebook</a>'\n",
              "            + ' to learn more about interactive tables.';\n",
              "          element.innerHTML = '';\n",
              "          dataTable['output_type'] = 'display_data';\n",
              "          await google.colab.output.renderOutput(dataTable, element);\n",
              "          const docLink = document.createElement('div');\n",
              "          docLink.innerHTML = docLinkHtml;\n",
              "          element.appendChild(docLink);\n",
              "        }\n",
              "      </script>\n",
              "    </div>\n",
              "  </div>\n",
              "  "
            ]
          },
          "metadata": {},
          "execution_count": 3
        }
      ]
    },
    {
      "cell_type": "code",
      "execution_count": null,
      "metadata": {
        "colab": {
          "base_uri": "https://localhost:8080/",
          "height": 206
        },
        "id": "vvF88SV18uQL",
        "outputId": "e4fae9fb-972d-4da8-fa47-d1361b27faa5"
      },
      "outputs": [
        {
          "output_type": "execute_result",
          "data": {
            "text/plain": [
              "             Date     Open     High      Low   Close\n",
              "4460  07 Apr 2005  2069.15  2084.90  2048.05  2052.8\n",
              "4461  06 Apr 2005  2054.00  2073.10  2051.30  2069.3\n",
              "4462  05 Apr 2005  2063.20  2077.95  2043.70  2052.5\n",
              "4463  04 Apr 2005  2067.65  2076.60  2054.90  2063.4\n",
              "4464  01 Apr 2005  2035.90  2071.20  2024.25  2067.6"
            ],
            "text/html": [
              "\n",
              "  <div id=\"df-64027a38-97cd-4075-8690-6b18b1d3914e\">\n",
              "    <div class=\"colab-df-container\">\n",
              "      <div>\n",
              "<style scoped>\n",
              "    .dataframe tbody tr th:only-of-type {\n",
              "        vertical-align: middle;\n",
              "    }\n",
              "\n",
              "    .dataframe tbody tr th {\n",
              "        vertical-align: top;\n",
              "    }\n",
              "\n",
              "    .dataframe thead th {\n",
              "        text-align: right;\n",
              "    }\n",
              "</style>\n",
              "<table border=\"1\" class=\"dataframe\">\n",
              "  <thead>\n",
              "    <tr style=\"text-align: right;\">\n",
              "      <th></th>\n",
              "      <th>Date</th>\n",
              "      <th>Open</th>\n",
              "      <th>High</th>\n",
              "      <th>Low</th>\n",
              "      <th>Close</th>\n",
              "    </tr>\n",
              "  </thead>\n",
              "  <tbody>\n",
              "    <tr>\n",
              "      <th>4460</th>\n",
              "      <td>07 Apr 2005</td>\n",
              "      <td>2069.15</td>\n",
              "      <td>2084.90</td>\n",
              "      <td>2048.05</td>\n",
              "      <td>2052.8</td>\n",
              "    </tr>\n",
              "    <tr>\n",
              "      <th>4461</th>\n",
              "      <td>06 Apr 2005</td>\n",
              "      <td>2054.00</td>\n",
              "      <td>2073.10</td>\n",
              "      <td>2051.30</td>\n",
              "      <td>2069.3</td>\n",
              "    </tr>\n",
              "    <tr>\n",
              "      <th>4462</th>\n",
              "      <td>05 Apr 2005</td>\n",
              "      <td>2063.20</td>\n",
              "      <td>2077.95</td>\n",
              "      <td>2043.70</td>\n",
              "      <td>2052.5</td>\n",
              "    </tr>\n",
              "    <tr>\n",
              "      <th>4463</th>\n",
              "      <td>04 Apr 2005</td>\n",
              "      <td>2067.65</td>\n",
              "      <td>2076.60</td>\n",
              "      <td>2054.90</td>\n",
              "      <td>2063.4</td>\n",
              "    </tr>\n",
              "    <tr>\n",
              "      <th>4464</th>\n",
              "      <td>01 Apr 2005</td>\n",
              "      <td>2035.90</td>\n",
              "      <td>2071.20</td>\n",
              "      <td>2024.25</td>\n",
              "      <td>2067.6</td>\n",
              "    </tr>\n",
              "  </tbody>\n",
              "</table>\n",
              "</div>\n",
              "      <button class=\"colab-df-convert\" onclick=\"convertToInteractive('df-64027a38-97cd-4075-8690-6b18b1d3914e')\"\n",
              "              title=\"Convert this dataframe to an interactive table.\"\n",
              "              style=\"display:none;\">\n",
              "        \n",
              "  <svg xmlns=\"http://www.w3.org/2000/svg\" height=\"24px\"viewBox=\"0 0 24 24\"\n",
              "       width=\"24px\">\n",
              "    <path d=\"M0 0h24v24H0V0z\" fill=\"none\"/>\n",
              "    <path d=\"M18.56 5.44l.94 2.06.94-2.06 2.06-.94-2.06-.94-.94-2.06-.94 2.06-2.06.94zm-11 1L8.5 8.5l.94-2.06 2.06-.94-2.06-.94L8.5 2.5l-.94 2.06-2.06.94zm10 10l.94 2.06.94-2.06 2.06-.94-2.06-.94-.94-2.06-.94 2.06-2.06.94z\"/><path d=\"M17.41 7.96l-1.37-1.37c-.4-.4-.92-.59-1.43-.59-.52 0-1.04.2-1.43.59L10.3 9.45l-7.72 7.72c-.78.78-.78 2.05 0 2.83L4 21.41c.39.39.9.59 1.41.59.51 0 1.02-.2 1.41-.59l7.78-7.78 2.81-2.81c.8-.78.8-2.07 0-2.86zM5.41 20L4 18.59l7.72-7.72 1.47 1.35L5.41 20z\"/>\n",
              "  </svg>\n",
              "      </button>\n",
              "      \n",
              "  <style>\n",
              "    .colab-df-container {\n",
              "      display:flex;\n",
              "      flex-wrap:wrap;\n",
              "      gap: 12px;\n",
              "    }\n",
              "\n",
              "    .colab-df-convert {\n",
              "      background-color: #E8F0FE;\n",
              "      border: none;\n",
              "      border-radius: 50%;\n",
              "      cursor: pointer;\n",
              "      display: none;\n",
              "      fill: #1967D2;\n",
              "      height: 32px;\n",
              "      padding: 0 0 0 0;\n",
              "      width: 32px;\n",
              "    }\n",
              "\n",
              "    .colab-df-convert:hover {\n",
              "      background-color: #E2EBFA;\n",
              "      box-shadow: 0px 1px 2px rgba(60, 64, 67, 0.3), 0px 1px 3px 1px rgba(60, 64, 67, 0.15);\n",
              "      fill: #174EA6;\n",
              "    }\n",
              "\n",
              "    [theme=dark] .colab-df-convert {\n",
              "      background-color: #3B4455;\n",
              "      fill: #D2E3FC;\n",
              "    }\n",
              "\n",
              "    [theme=dark] .colab-df-convert:hover {\n",
              "      background-color: #434B5C;\n",
              "      box-shadow: 0px 1px 3px 1px rgba(0, 0, 0, 0.15);\n",
              "      filter: drop-shadow(0px 1px 2px rgba(0, 0, 0, 0.3));\n",
              "      fill: #FFFFFF;\n",
              "    }\n",
              "  </style>\n",
              "\n",
              "      <script>\n",
              "        const buttonEl =\n",
              "          document.querySelector('#df-64027a38-97cd-4075-8690-6b18b1d3914e button.colab-df-convert');\n",
              "        buttonEl.style.display =\n",
              "          google.colab.kernel.accessAllowed ? 'block' : 'none';\n",
              "\n",
              "        async function convertToInteractive(key) {\n",
              "          const element = document.querySelector('#df-64027a38-97cd-4075-8690-6b18b1d3914e');\n",
              "          const dataTable =\n",
              "            await google.colab.kernel.invokeFunction('convertToInteractive',\n",
              "                                                     [key], {});\n",
              "          if (!dataTable) return;\n",
              "\n",
              "          const docLinkHtml = 'Like what you see? Visit the ' +\n",
              "            '<a target=\"_blank\" href=https://colab.research.google.com/notebooks/data_table.ipynb>data table notebook</a>'\n",
              "            + ' to learn more about interactive tables.';\n",
              "          element.innerHTML = '';\n",
              "          dataTable['output_type'] = 'display_data';\n",
              "          await google.colab.output.renderOutput(dataTable, element);\n",
              "          const docLink = document.createElement('div');\n",
              "          docLink.innerHTML = docLinkHtml;\n",
              "          element.appendChild(docLink);\n",
              "        }\n",
              "      </script>\n",
              "    </div>\n",
              "  </div>\n",
              "  "
            ]
          },
          "metadata": {},
          "execution_count": 4
        }
      ],
      "source": [
        "df.tail()"
      ]
    },
    {
      "cell_type": "code",
      "execution_count": null,
      "metadata": {
        "id": "8JmxZdny8uQM"
      },
      "outputs": [],
      "source": [
        "# Asceding order\n",
        "df = df.iloc[::-1]\n",
        "df1=df.reset_index()['Close']"
      ]
    },
    {
      "cell_type": "code",
      "execution_count": null,
      "metadata": {
        "colab": {
          "base_uri": "https://localhost:8080/"
        },
        "id": "RNq-RPQG8uQM",
        "outputId": "590bb497-61cc-4de5-ffdc-93900fb5a2ac"
      },
      "outputs": [
        {
          "output_type": "execute_result",
          "data": {
            "text/plain": [
              "0        2067.60\n",
              "1        2063.40\n",
              "2        2052.50\n",
              "3        2069.30\n",
              "4        2052.80\n",
              "          ...   \n",
              "4460    17076.90\n",
              "4461    16945.05\n",
              "4462    16985.70\n",
              "4463    16951.70\n",
              "4464    17080.70\n",
              "Name: Close, Length: 4465, dtype: float64"
            ]
          },
          "metadata": {},
          "execution_count": 6
        }
      ],
      "source": [
        "df1"
      ]
    },
    {
      "cell_type": "code",
      "execution_count": null,
      "metadata": {
        "colab": {
          "base_uri": "https://localhost:8080/",
          "height": 448
        },
        "id": "vvNyRKuB8uQN",
        "outputId": "14ae1dd2-6494-4f4e-e8a2-80efb1906fb9"
      },
      "outputs": [
        {
          "output_type": "execute_result",
          "data": {
            "text/plain": [
              "[<matplotlib.lines.Line2D at 0x7f961aebb7c0>]"
            ]
          },
          "metadata": {},
          "execution_count": 7
        },
        {
          "output_type": "display_data",
          "data": {
            "text/plain": [
              "<Figure size 640x480 with 1 Axes>"
            ],
            "image/png": "[encoded data removed]"
          },
          "metadata": {}
        }
      ],
      "source": [
        "# Plotting data\n",
        "import matplotlib.pyplot as plt\n",
        "plt.plot(df1)"
      ]
    },
    {
      "cell_type": "code",
      "execution_count": null,
      "metadata": {
        "id": "GgZzGLop8uQO",
        "colab": {
          "base_uri": "https://localhost:8080/"
        },
        "outputId": "caa8a413-b0fd-4e83-ca4b-8542b20563bb"
      },
      "outputs": [
        {
          "output_type": "execute_result",
          "data": {
            "text/plain": [
              "0        2067.60\n",
              "1        2063.40\n",
              "2        2052.50\n",
              "3        2069.30\n",
              "4        2052.80\n",
              "          ...   \n",
              "4460    17076.90\n",
              "4461    16945.05\n",
              "4462    16985.70\n",
              "4463    16951.70\n",
              "4464    17080.70\n",
              "Name: Close, Length: 4465, dtype: float64"
            ]
          },
          "metadata": {},
          "execution_count": 8
        }
      ],
      "source": [
        "import numpy as np\n",
        "df1"
      ]
    },
    {
      "cell_type": "code",
      "execution_count": null,
      "metadata": {
        "id": "QUPTb49Y8uQP"
      },
      "outputs": [],
      "source": [
        "# Normalization\n",
        "from sklearn.preprocessing import MinMaxScaler\n",
        "scaler = MinMaxScaler(feature_range=(0,1))\n",
        "df1 = scaler.fit_transform(np.array(df1).reshape(-1,1))"
      ]
    },
    {
      "cell_type": "code",
      "execution_count": null,
      "metadata": {
        "colab": {
          "base_uri": "https://localhost:8080/"
        },
        "id": "cywbI0Qv8uQP",
        "outputId": "22159fb6-201d-4d34-8b61-1e6fa540155e"
      },
      "outputs": [
        {
          "output_type": "stream",
          "name": "stdout",
          "text": [
            "[[0.00976345]\n",
            " [0.00951508]\n",
            " [0.00887049]\n",
            " ...\n",
            " [0.89196925]\n",
            " [0.8899586 ]\n",
            " [0.89758723]]\n"
          ]
        }
      ],
      "source": [
        "print(df1)"
      ]
    },
    {
      "cell_type": "code",
      "execution_count": null,
      "metadata": {
        "id": "LDC07SkR8uQQ"
      },
      "outputs": [],
      "source": [
        "# Training & Testing dataset\n",
        "training_size = int(len(df1)*0.65)\n",
        "test_size = len(df1)-training_size\n",
        "train_data,test_data = df1[0:training_size,:],df1[training_size:len(df1),:1]"
      ]
    },
    {
      "cell_type": "code",
      "execution_count": null,
      "metadata": {
        "colab": {
          "base_uri": "https://localhost:8080/"
        },
        "id": "hRrdlfV-8uQQ",
        "outputId": "51b27f93-ee2e-4371-f3f9-ac51e5e71b1c"
      },
      "outputs": [
        {
          "output_type": "execute_result",
          "data": {
            "text/plain": [
              "(2902, 1563)"
            ]
          },
          "metadata": {},
          "execution_count": 12
        }
      ],
      "source": [
        "training_size,test_size"
      ]
    },
    {
      "cell_type": "code",
      "execution_count": null,
      "metadata": {
        "colab": {
          "base_uri": "https://localhost:8080/"
        },
        "id": "Rjg_UWUb8uQR",
        "outputId": "a14530cb-7654-4c75-e015-63b968dc578f"
      },
      "outputs": [
        {
          "output_type": "execute_result",
          "data": {
            "text/plain": [
              "array([[0.00976345],\n",
              "       [0.00951508],\n",
              "       [0.00887049],\n",
              "       ...,\n",
              "       [0.36661739],\n",
              "       [0.37518037],\n",
              "       [0.3760615 ]])"
            ]
          },
          "metadata": {},
          "execution_count": 13
        }
      ],
      "source": [
        "train_data"
      ]
    },
    {
      "cell_type": "code",
      "source": [
        "test_data"
      ],
      "metadata": {
        "colab": {
          "base_uri": "https://localhost:8080/"
        },
        "id": "gfiZTCwAQm-7",
        "outputId": "2a3595d7-0764-403a-a878-46c5b02d0b50"
      },
      "execution_count": null,
      "outputs": [
        {
          "output_type": "execute_result",
          "data": {
            "text/plain": [
              "array([[0.37068598],\n",
              "       [0.37370195],\n",
              "       [0.37137197],\n",
              "       ...,\n",
              "       [0.89196925],\n",
              "       [0.8899586 ],\n",
              "       [0.89758723]])"
            ]
          },
          "metadata": {},
          "execution_count": 14
        }
      ]
    },
    {
      "cell_type": "code",
      "execution_count": null,
      "metadata": {
        "id": "Qz_ishXU8uQR"
      },
      "outputs": [],
      "source": [
        "# Dataset matrix \n",
        "# dataX = [dataset[i]...dataset[i+timestep-1]] & dataY = [dataset[i+timestep]]\n",
        "import numpy\n",
        "def create_dataset(dataset, time_step=1):\n",
        "\tdataX, dataY = [], []\n",
        "\tfor i in range(len(dataset)-time_step-1):\n",
        "\t\ta = dataset[i:(i+time_step), 0]  \n",
        "\t\tdataX.append(a)\n",
        "\t\tdataY.append(dataset[i + time_step, 0])\n",
        "\treturn numpy.array(dataX), numpy.array(dataY)"
      ]
    },
    {
      "cell_type": "code",
      "execution_count": null,
      "metadata": {
        "id": "XcjHi2268uQR"
      },
      "outputs": [],
      "source": [
        "time_step = 10\n",
        "X_train, y_train = create_dataset(train_data, time_step)\n",
        "X_test, ytest = create_dataset(test_data, time_step)"
      ]
    },
    {
      "cell_type": "code",
      "execution_count": null,
      "metadata": {
        "colab": {
          "base_uri": "https://localhost:8080/"
        },
        "id": "vZJ2Aywj8uQS",
        "outputId": "ffd122fa-18e8-4693-ab41-2da1924c2eed"
      },
      "outputs": [
        {
          "output_type": "stream",
          "name": "stdout",
          "text": [
            "(2891, 10)\n",
            "(2891,)\n"
          ]
        }
      ],
      "source": [
        "print(X_train.shape)\n",
        "print(y_train.shape)"
      ]
    },
    {
      "cell_type": "code",
      "execution_count": null,
      "metadata": {
        "colab": {
          "base_uri": "https://localhost:8080/"
        },
        "id": "j_Jd2gf88uQS",
        "outputId": "5a7a5886-5815-46af-fdd0-a0e4fc1abe37"
      },
      "outputs": [
        {
          "output_type": "stream",
          "name": "stdout",
          "text": [
            "(1552, 10)\n",
            "(1552,)\n"
          ]
        }
      ],
      "source": [
        "print(X_test.shape)\n",
        "print(ytest.shape)"
      ]
    },
    {
      "cell_type": "code",
      "execution_count": null,
      "metadata": {
        "id": "0atBogcQ8uQT"
      },
      "outputs": [],
      "source": [
        "# LSTM(sample,time_step,feature)\n",
        "X_train = X_train.reshape(X_train.shape[0],X_train.shape[1] , 1)\n",
        "X_test = X_test.reshape(X_test.shape[0],X_test.shape[1] , 1)"
      ]
    },
    {
      "cell_type": "code",
      "execution_count": null,
      "metadata": {
        "id": "TsVYl_Ee8uQT",
        "colab": {
          "base_uri": "https://localhost:8080/"
        },
        "outputId": "0efdbafc-2fce-4f6a-e344-fadfc33d547b"
      },
      "outputs": [
        {
          "output_type": "stream",
          "name": "stdout",
          "text": [
            "Model: \"sequential\"\n",
            "_________________________________________________________________\n",
            " Layer (type)                Output Shape              Param #   \n",
            "=================================================================\n",
            " lstm (LSTM)                 (None, 10, 50)            10400     \n",
            "                                                                 \n",
            " lstm_1 (LSTM)               (None, 10, 50)            20200     \n",
            "                                                                 \n",
            " lstm_2 (LSTM)               (None, 50)                20200     \n",
            "                                                                 \n",
            " dense (Dense)               (None, 1)                 51        \n",
            "                                                                 \n",
            "=================================================================\n",
            "Total params: 50,851\n",
            "Trainable params: 50,851\n",
            "Non-trainable params: 0\n",
            "_________________________________________________________________\n"
          ]
        }
      ],
      "source": [
        "# Stacked LSTM model\n",
        "from tensorflow import keras\n",
        "from keras.layers import Dense, LSTM\n",
        "from keras.models import Sequential\n",
        "\n",
        "model=Sequential()\n",
        "model.add(LSTM(50,return_sequences=True,input_shape=(time_step,1), activation=\"tanh\"))\n",
        "model.add(LSTM(50,return_sequences=True,activation=\"tanh\"))\n",
        "model.add(LSTM(50, activation='sigmoid'))\n",
        "model.add(Dense(1, activation='sigmoid'))\n",
        "model.compile(loss='mean_squared_error', optimizer='adam')\n",
        "model.summary()"
      ]
    },
    {
      "cell_type": "code",
      "execution_count": null,
      "metadata": {
        "colab": {
          "base_uri": "https://localhost:8080/"
        },
        "id": "X5bo8U6D8uQV",
        "outputId": "0bd20f99-a552-4c50-fe09-ef792ca050a8"
      },
      "outputs": [
        {
          "output_type": "stream",
          "name": "stdout",
          "text": [
            "Epoch 1/300\n",
            "46/46 [==============================] - 8s 58ms/step - loss: 0.0305 - val_loss: 0.2316\n",
            "Epoch 2/300\n",
            "46/46 [==============================] - 2s 42ms/step - loss: 0.0107 - val_loss: 0.1524\n",
            "Epoch 3/300\n",
            "46/46 [==============================] - 1s 29ms/step - loss: 0.0020 - val_loss: 0.0647\n",
            "Epoch 4/300\n",
            "46/46 [==============================] - 1s 28ms/step - loss: 3.7089e-04 - val_loss: 0.0648\n",
            "Epoch 5/300\n",
            "46/46 [==============================] - 1s 27ms/step - loss: 3.0557e-04 - val_loss: 0.0598\n",
            "Epoch 6/300\n",
            "46/46 [==============================] - 1s 28ms/step - loss: 2.6562e-04 - val_loss: 0.0574\n",
            "Epoch 7/300\n",
            "46/46 [==============================] - 1s 28ms/step - loss: 2.4700e-04 - val_loss: 0.0522\n",
            "Epoch 8/300\n",
            "46/46 [==============================] - 1s 28ms/step - loss: 2.1450e-04 - val_loss: 0.0445\n",
            "Epoch 9/300\n",
            "46/46 [==============================] - 1s 28ms/step - loss: 1.9695e-04 - val_loss: 0.0393\n",
            "Epoch 10/300\n",
            "46/46 [==============================] - 1s 29ms/step - loss: 1.7384e-04 - val_loss: 0.0368\n",
            "Epoch 11/300\n",
            "46/46 [==============================] - 2s 42ms/step - loss: 1.5922e-04 - val_loss: 0.0340\n",
            "Epoch 12/300\n",
            "46/46 [==============================] - 2s 35ms/step - loss: 1.5352e-04 - val_loss: 0.0292\n",
            "Epoch 13/300\n",
            "46/46 [==============================] - 1s 28ms/step - loss: 1.4366e-04 - val_loss: 0.0280\n",
            "Epoch 14/300\n",
            "46/46 [==============================] - 1s 28ms/step - loss: 1.4355e-04 - val_loss: 0.0260\n",
            "Epoch 15/300\n",
            "46/46 [==============================] - 1s 29ms/step - loss: 1.4452e-04 - val_loss: 0.0277\n",
            "Epoch 16/300\n",
            "46/46 [==============================] - 1s 29ms/step - loss: 1.4606e-04 - val_loss: 0.0305\n",
            "Epoch 17/300\n",
            "46/46 [==============================] - 1s 28ms/step - loss: 1.4155e-04 - val_loss: 0.0265\n",
            "Epoch 18/300\n",
            "46/46 [==============================] - 1s 28ms/step - loss: 1.2790e-04 - val_loss: 0.0275\n",
            "Epoch 19/300\n",
            "46/46 [==============================] - 1s 28ms/step - loss: 1.2612e-04 - val_loss: 0.0274\n",
            "Epoch 20/300\n",
            "46/46 [==============================] - 2s 45ms/step - loss: 1.3182e-04 - val_loss: 0.0242\n",
            "Epoch 21/300\n",
            "46/46 [==============================] - 2s 37ms/step - loss: 1.3573e-04 - val_loss: 0.0266\n",
            "Epoch 22/300\n",
            "46/46 [==============================] - 1s 28ms/step - loss: 1.2281e-04 - val_loss: 0.0280\n",
            "Epoch 23/300\n",
            "46/46 [==============================] - 1s 28ms/step - loss: 1.2328e-04 - val_loss: 0.0270\n",
            "Epoch 24/300\n",
            "46/46 [==============================] - 1s 29ms/step - loss: 1.2535e-04 - val_loss: 0.0299\n",
            "Epoch 25/300\n",
            "46/46 [==============================] - 1s 28ms/step - loss: 1.4677e-04 - val_loss: 0.0276\n",
            "Epoch 26/300\n",
            "46/46 [==============================] - 1s 28ms/step - loss: 1.1944e-04 - val_loss: 0.0258\n",
            "Epoch 27/300\n",
            "46/46 [==============================] - 1s 27ms/step - loss: 1.1915e-04 - val_loss: 0.0251\n",
            "Epoch 28/300\n",
            "46/46 [==============================] - 1s 28ms/step - loss: 1.1835e-04 - val_loss: 0.0276\n",
            "Epoch 29/300\n",
            "46/46 [==============================] - 2s 39ms/step - loss: 1.2030e-04 - val_loss: 0.0274\n",
            "Epoch 30/300\n",
            "46/46 [==============================] - 2s 40ms/step - loss: 1.2034e-04 - val_loss: 0.0256\n",
            "Epoch 31/300\n",
            "46/46 [==============================] - 1s 28ms/step - loss: 1.1666e-04 - val_loss: 0.0261\n",
            "Epoch 32/300\n",
            "46/46 [==============================] - 1s 28ms/step - loss: 1.2211e-04 - val_loss: 0.0230\n",
            "Epoch 33/300\n",
            "46/46 [==============================] - 1s 26ms/step - loss: 1.2128e-04 - val_loss: 0.0254\n",
            "Epoch 34/300\n",
            "46/46 [==============================] - 1s 28ms/step - loss: 1.2321e-04 - val_loss: 0.0223\n",
            "Epoch 35/300\n",
            "46/46 [==============================] - 1s 27ms/step - loss: 1.2901e-04 - val_loss: 0.0232\n",
            "Epoch 36/300\n",
            "46/46 [==============================] - 1s 27ms/step - loss: 1.2465e-04 - val_loss: 0.0236\n",
            "Epoch 37/300\n",
            "46/46 [==============================] - 1s 27ms/step - loss: 1.1519e-04 - val_loss: 0.0258\n",
            "Epoch 38/300\n",
            "46/46 [==============================] - 1s 31ms/step - loss: 1.2164e-04 - val_loss: 0.0252\n",
            "Epoch 39/300\n",
            "46/46 [==============================] - 2s 45ms/step - loss: 1.1481e-04 - val_loss: 0.0222\n",
            "Epoch 40/300\n",
            "46/46 [==============================] - 1s 29ms/step - loss: 1.2038e-04 - val_loss: 0.0229\n",
            "Epoch 41/300\n",
            "46/46 [==============================] - 1s 28ms/step - loss: 1.1069e-04 - val_loss: 0.0234\n",
            "Epoch 42/300\n",
            "46/46 [==============================] - 1s 27ms/step - loss: 1.1555e-04 - val_loss: 0.0222\n",
            "Epoch 43/300\n",
            "46/46 [==============================] - 1s 28ms/step - loss: 1.0504e-04 - val_loss: 0.0207\n",
            "Epoch 44/300\n",
            "46/46 [==============================] - 1s 27ms/step - loss: 1.0741e-04 - val_loss: 0.0197\n",
            "Epoch 45/300\n",
            "46/46 [==============================] - 1s 27ms/step - loss: 1.0287e-04 - val_loss: 0.0191\n",
            "Epoch 46/300\n",
            "46/46 [==============================] - 1s 27ms/step - loss: 1.0741e-04 - val_loss: 0.0214\n",
            "Epoch 47/300\n",
            "46/46 [==============================] - 1s 28ms/step - loss: 1.0608e-04 - val_loss: 0.0194\n",
            "Epoch 48/300\n",
            "46/46 [==============================] - 2s 43ms/step - loss: 1.0140e-04 - val_loss: 0.0203\n",
            "Epoch 49/300\n",
            "46/46 [==============================] - 2s 36ms/step - loss: 1.0330e-04 - val_loss: 0.0218\n",
            "Epoch 50/300\n",
            "46/46 [==============================] - 1s 27ms/step - loss: 1.0273e-04 - val_loss: 0.0209\n",
            "Epoch 51/300\n",
            "46/46 [==============================] - 1s 26ms/step - loss: 9.8895e-05 - val_loss: 0.0187\n",
            "Epoch 52/300\n",
            "46/46 [==============================] - 1s 28ms/step - loss: 1.1471e-04 - val_loss: 0.0193\n",
            "Epoch 53/300\n",
            "46/46 [==============================] - 1s 27ms/step - loss: 9.6147e-05 - val_loss: 0.0176\n",
            "Epoch 54/300\n",
            "46/46 [==============================] - 1s 27ms/step - loss: 9.3853e-05 - val_loss: 0.0176\n",
            "Epoch 55/300\n",
            "46/46 [==============================] - 1s 27ms/step - loss: 1.0021e-04 - val_loss: 0.0187\n",
            "Epoch 56/300\n",
            "46/46 [==============================] - 1s 27ms/step - loss: 1.1203e-04 - val_loss: 0.0171\n",
            "Epoch 57/300\n",
            "46/46 [==============================] - 2s 35ms/step - loss: 9.6643e-05 - val_loss: 0.0196\n",
            "Epoch 58/300\n",
            "46/46 [==============================] - 2s 45ms/step - loss: 9.4526e-05 - val_loss: 0.0167\n",
            "Epoch 59/300\n",
            "46/46 [==============================] - 1s 27ms/step - loss: 9.0062e-05 - val_loss: 0.0158\n",
            "Epoch 60/300\n",
            "46/46 [==============================] - 1s 28ms/step - loss: 9.4517e-05 - val_loss: 0.0171\n",
            "Epoch 61/300\n",
            "46/46 [==============================] - 1s 28ms/step - loss: 9.6394e-05 - val_loss: 0.0151\n",
            "Epoch 62/300\n",
            "46/46 [==============================] - 1s 28ms/step - loss: 9.4361e-05 - val_loss: 0.0155\n",
            "Epoch 63/300\n",
            "46/46 [==============================] - 1s 29ms/step - loss: 8.8978e-05 - val_loss: 0.0163\n",
            "Epoch 64/300\n",
            "46/46 [==============================] - 1s 27ms/step - loss: 8.6312e-05 - val_loss: 0.0152\n",
            "Epoch 65/300\n",
            "46/46 [==============================] - 1s 28ms/step - loss: 8.5734e-05 - val_loss: 0.0157\n",
            "Epoch 66/300\n",
            "46/46 [==============================] - 1s 32ms/step - loss: 9.3706e-05 - val_loss: 0.0175\n",
            "Epoch 67/300\n",
            "46/46 [==============================] - 2s 43ms/step - loss: 8.6821e-05 - val_loss: 0.0164\n",
            "Epoch 68/300\n",
            "46/46 [==============================] - 1s 30ms/step - loss: 9.0672e-05 - val_loss: 0.0182\n",
            "Epoch 69/300\n",
            "46/46 [==============================] - 1s 28ms/step - loss: 8.8155e-05 - val_loss: 0.0155\n",
            "Epoch 70/300\n",
            "46/46 [==============================] - 1s 27ms/step - loss: 7.8378e-05 - val_loss: 0.0150\n",
            "Epoch 71/300\n",
            "46/46 [==============================] - 1s 28ms/step - loss: 8.2581e-05 - val_loss: 0.0141\n",
            "Epoch 72/300\n",
            "46/46 [==============================] - 1s 28ms/step - loss: 7.6772e-05 - val_loss: 0.0131\n",
            "Epoch 73/300\n",
            "46/46 [==============================] - 1s 28ms/step - loss: 7.5459e-05 - val_loss: 0.0161\n",
            "Epoch 74/300\n",
            "46/46 [==============================] - 1s 30ms/step - loss: 8.3952e-05 - val_loss: 0.0137\n",
            "Epoch 75/300\n",
            "46/46 [==============================] - 1s 29ms/step - loss: 8.6531e-05 - val_loss: 0.0112\n",
            "Epoch 76/300\n",
            "46/46 [==============================] - 2s 42ms/step - loss: 8.4869e-05 - val_loss: 0.0144\n",
            "Epoch 77/300\n",
            "46/46 [==============================] - 2s 36ms/step - loss: 7.0397e-05 - val_loss: 0.0134\n",
            "Epoch 78/300\n",
            "46/46 [==============================] - 1s 28ms/step - loss: 7.2321e-05 - val_loss: 0.0135\n",
            "Epoch 79/300\n",
            "46/46 [==============================] - 1s 28ms/step - loss: 7.6393e-05 - val_loss: 0.0136\n",
            "Epoch 80/300\n",
            "46/46 [==============================] - 1s 28ms/step - loss: 8.0841e-05 - val_loss: 0.0144\n",
            "Epoch 81/300\n",
            "46/46 [==============================] - 1s 28ms/step - loss: 7.6632e-05 - val_loss: 0.0135\n",
            "Epoch 82/300\n",
            "46/46 [==============================] - 1s 28ms/step - loss: 8.3916e-05 - val_loss: 0.0128\n",
            "Epoch 83/300\n",
            "46/46 [==============================] - 1s 28ms/step - loss: 7.2873e-05 - val_loss: 0.0148\n",
            "Epoch 84/300\n",
            "46/46 [==============================] - 1s 30ms/step - loss: 7.0604e-05 - val_loss: 0.0120\n",
            "Epoch 85/300\n",
            "46/46 [==============================] - 2s 41ms/step - loss: 7.4607e-05 - val_loss: 0.0132\n",
            "Epoch 86/300\n",
            "46/46 [==============================] - 2s 40ms/step - loss: 7.3204e-05 - val_loss: 0.0110\n",
            "Epoch 87/300\n",
            "46/46 [==============================] - 1s 27ms/step - loss: 7.2998e-05 - val_loss: 0.0113\n",
            "Epoch 88/300\n",
            "46/46 [==============================] - 1s 28ms/step - loss: 7.3202e-05 - val_loss: 0.0106\n",
            "Epoch 89/300\n",
            "46/46 [==============================] - 1s 29ms/step - loss: 6.4288e-05 - val_loss: 0.0117\n",
            "Epoch 90/300\n",
            "46/46 [==============================] - 1s 28ms/step - loss: 6.8867e-05 - val_loss: 0.0100\n",
            "Epoch 91/300\n",
            "46/46 [==============================] - 1s 28ms/step - loss: 7.5751e-05 - val_loss: 0.0124\n",
            "Epoch 92/300\n",
            "46/46 [==============================] - 1s 28ms/step - loss: 7.4569e-05 - val_loss: 0.0115\n",
            "Epoch 93/300\n",
            "46/46 [==============================] - 1s 27ms/step - loss: 6.2475e-05 - val_loss: 0.0111\n",
            "Epoch 94/300\n",
            "46/46 [==============================] - 2s 36ms/step - loss: 6.4847e-05 - val_loss: 0.0114\n",
            "Epoch 95/300\n",
            "46/46 [==============================] - 2s 42ms/step - loss: 6.6451e-05 - val_loss: 0.0116\n",
            "Epoch 96/300\n",
            "46/46 [==============================] - 1s 28ms/step - loss: 6.2069e-05 - val_loss: 0.0106\n",
            "Epoch 97/300\n",
            "46/46 [==============================] - 1s 28ms/step - loss: 6.2809e-05 - val_loss: 0.0109\n",
            "Epoch 98/300\n",
            "46/46 [==============================] - 1s 28ms/step - loss: 6.1052e-05 - val_loss: 0.0119\n",
            "Epoch 99/300\n",
            "46/46 [==============================] - 1s 28ms/step - loss: 6.1639e-05 - val_loss: 0.0104\n",
            "Epoch 100/300\n",
            "46/46 [==============================] - 1s 28ms/step - loss: 5.7880e-05 - val_loss: 0.0108\n",
            "Epoch 101/300\n",
            "46/46 [==============================] - 1s 29ms/step - loss: 6.3161e-05 - val_loss: 0.0103\n",
            "Epoch 102/300\n",
            "46/46 [==============================] - 1s 29ms/step - loss: 6.0399e-05 - val_loss: 0.0109\n",
            "Epoch 103/300\n",
            "46/46 [==============================] - 2s 33ms/step - loss: 6.7609e-05 - val_loss: 0.0126\n",
            "Epoch 104/300\n",
            "46/46 [==============================] - 2s 44ms/step - loss: 7.1629e-05 - val_loss: 0.0103\n",
            "Epoch 105/300\n",
            "46/46 [==============================] - 1s 31ms/step - loss: 8.7626e-05 - val_loss: 0.0118\n",
            "Epoch 106/300\n",
            "46/46 [==============================] - 1s 29ms/step - loss: 5.9010e-05 - val_loss: 0.0107\n",
            "Epoch 107/300\n",
            "46/46 [==============================] - 1s 29ms/step - loss: 5.9441e-05 - val_loss: 0.0124\n",
            "Epoch 108/300\n",
            "46/46 [==============================] - 1s 28ms/step - loss: 5.6865e-05 - val_loss: 0.0111\n",
            "Epoch 109/300\n",
            "46/46 [==============================] - 1s 29ms/step - loss: 5.5203e-05 - val_loss: 0.0106\n",
            "Epoch 110/300\n",
            "46/46 [==============================] - 1s 29ms/step - loss: 5.5685e-05 - val_loss: 0.0111\n",
            "Epoch 111/300\n",
            "46/46 [==============================] - 1s 28ms/step - loss: 5.6262e-05 - val_loss: 0.0102\n",
            "Epoch 112/300\n",
            "46/46 [==============================] - 1s 32ms/step - loss: 5.8275e-05 - val_loss: 0.0094\n",
            "Epoch 113/300\n",
            "46/46 [==============================] - 2s 44ms/step - loss: 5.9982e-05 - val_loss: 0.0092\n",
            "Epoch 114/300\n",
            "46/46 [==============================] - 1s 32ms/step - loss: 5.5720e-05 - val_loss: 0.0091\n",
            "Epoch 115/300\n",
            "46/46 [==============================] - 1s 28ms/step - loss: 5.4266e-05 - val_loss: 0.0107\n",
            "Epoch 116/300\n",
            "46/46 [==============================] - 1s 29ms/step - loss: 5.7830e-05 - val_loss: 0.0096\n",
            "Epoch 117/300\n",
            "46/46 [==============================] - 1s 28ms/step - loss: 5.0861e-05 - val_loss: 0.0096\n",
            "Epoch 118/300\n",
            "46/46 [==============================] - 1s 28ms/step - loss: 5.4699e-05 - val_loss: 0.0106\n",
            "Epoch 119/300\n",
            "46/46 [==============================] - 1s 27ms/step - loss: 5.3482e-05 - val_loss: 0.0096\n",
            "Epoch 120/300\n",
            "46/46 [==============================] - 1s 29ms/step - loss: 4.8993e-05 - val_loss: 0.0103\n",
            "Epoch 121/300\n",
            "46/46 [==============================] - 1s 29ms/step - loss: 5.3132e-05 - val_loss: 0.0092\n",
            "Epoch 122/300\n",
            "46/46 [==============================] - 2s 44ms/step - loss: 4.9450e-05 - val_loss: 0.0099\n",
            "Epoch 123/300\n",
            "46/46 [==============================] - 2s 34ms/step - loss: 4.9266e-05 - val_loss: 0.0092\n",
            "Epoch 124/300\n",
            "46/46 [==============================] - 1s 28ms/step - loss: 4.8651e-05 - val_loss: 0.0090\n",
            "Epoch 125/300\n",
            "46/46 [==============================] - 1s 29ms/step - loss: 5.5370e-05 - val_loss: 0.0083\n",
            "Epoch 126/300\n",
            "46/46 [==============================] - 1s 28ms/step - loss: 5.0660e-05 - val_loss: 0.0091\n",
            "Epoch 127/300\n",
            "46/46 [==============================] - 1s 27ms/step - loss: 4.5149e-05 - val_loss: 0.0105\n",
            "Epoch 128/300\n",
            "46/46 [==============================] - 1s 28ms/step - loss: 4.9442e-05 - val_loss: 0.0088\n",
            "Epoch 129/300\n",
            "46/46 [==============================] - 1s 28ms/step - loss: 4.4449e-05 - val_loss: 0.0086\n",
            "Epoch 130/300\n",
            "46/46 [==============================] - 1s 28ms/step - loss: 4.2459e-05 - val_loss: 0.0089\n",
            "Epoch 131/300\n",
            "46/46 [==============================] - 2s 41ms/step - loss: 4.3881e-05 - val_loss: 0.0091\n",
            "Epoch 132/300\n",
            "46/46 [==============================] - 2s 39ms/step - loss: 4.2459e-05 - val_loss: 0.0095\n",
            "Epoch 133/300\n",
            "46/46 [==============================] - 1s 27ms/step - loss: 4.3187e-05 - val_loss: 0.0076\n",
            "Epoch 134/300\n",
            "46/46 [==============================] - 1s 28ms/step - loss: 4.8737e-05 - val_loss: 0.0091\n",
            "Epoch 135/300\n",
            "46/46 [==============================] - 1s 28ms/step - loss: 4.2005e-05 - val_loss: 0.0083\n",
            "Epoch 136/300\n",
            "46/46 [==============================] - 1s 27ms/step - loss: 4.2751e-05 - val_loss: 0.0089\n",
            "Epoch 137/300\n",
            "46/46 [==============================] - 1s 28ms/step - loss: 4.4960e-05 - val_loss: 0.0079\n",
            "Epoch 138/300\n",
            "46/46 [==============================] - 1s 27ms/step - loss: 4.1235e-05 - val_loss: 0.0084\n",
            "Epoch 139/300\n",
            "46/46 [==============================] - 1s 29ms/step - loss: 3.7134e-05 - val_loss: 0.0082\n",
            "Epoch 140/300\n",
            "46/46 [==============================] - 2s 36ms/step - loss: 3.8091e-05 - val_loss: 0.0085\n",
            "Epoch 141/300\n",
            "46/46 [==============================] - 2s 43ms/step - loss: 3.7238e-05 - val_loss: 0.0089\n",
            "Epoch 142/300\n",
            "46/46 [==============================] - 1s 27ms/step - loss: 3.5585e-05 - val_loss: 0.0085\n",
            "Epoch 143/300\n",
            "46/46 [==============================] - 1s 28ms/step - loss: 4.9508e-05 - val_loss: 0.0078\n",
            "Epoch 144/300\n",
            "46/46 [==============================] - 1s 29ms/step - loss: 4.9796e-05 - val_loss: 0.0082\n",
            "Epoch 145/300\n",
            "46/46 [==============================] - 1s 28ms/step - loss: 3.6459e-05 - val_loss: 0.0076\n",
            "Epoch 146/300\n",
            "46/46 [==============================] - 1s 29ms/step - loss: 3.3712e-05 - val_loss: 0.0078\n",
            "Epoch 147/300\n",
            "46/46 [==============================] - 1s 28ms/step - loss: 3.4375e-05 - val_loss: 0.0079\n",
            "Epoch 148/300\n",
            "46/46 [==============================] - 1s 29ms/step - loss: 3.8214e-05 - val_loss: 0.0073\n",
            "Epoch 149/300\n",
            "46/46 [==============================] - 2s 35ms/step - loss: 3.5521e-05 - val_loss: 0.0081\n",
            "Epoch 150/300\n",
            "46/46 [==============================] - 2s 45ms/step - loss: 3.2091e-05 - val_loss: 0.0080\n",
            "Epoch 151/300\n",
            "46/46 [==============================] - 1s 29ms/step - loss: 3.1571e-05 - val_loss: 0.0074\n",
            "Epoch 152/300\n",
            "46/46 [==============================] - 1s 28ms/step - loss: 3.4804e-05 - val_loss: 0.0080\n",
            "Epoch 153/300\n",
            "46/46 [==============================] - 1s 28ms/step - loss: 3.5045e-05 - val_loss: 0.0071\n",
            "Epoch 154/300\n",
            "46/46 [==============================] - 1s 29ms/step - loss: 3.7835e-05 - val_loss: 0.0069\n",
            "Epoch 155/300\n",
            "46/46 [==============================] - 1s 29ms/step - loss: 3.3374e-05 - val_loss: 0.0078\n",
            "Epoch 156/300\n",
            "46/46 [==============================] - 1s 29ms/step - loss: 3.4257e-05 - val_loss: 0.0070\n",
            "Epoch 157/300\n",
            "46/46 [==============================] - 1s 28ms/step - loss: 3.0265e-05 - val_loss: 0.0082\n",
            "Epoch 158/300\n",
            "46/46 [==============================] - 2s 33ms/step - loss: 3.1762e-05 - val_loss: 0.0071\n",
            "Epoch 159/300\n",
            "46/46 [==============================] - 2s 44ms/step - loss: 3.0361e-05 - val_loss: 0.0083\n",
            "Epoch 160/300\n",
            "46/46 [==============================] - 1s 32ms/step - loss: 4.4760e-05 - val_loss: 0.0077\n",
            "Epoch 161/300\n",
            "46/46 [==============================] - 1s 27ms/step - loss: 3.4152e-05 - val_loss: 0.0069\n",
            "Epoch 162/300\n",
            "46/46 [==============================] - 1s 28ms/step - loss: 2.8959e-05 - val_loss: 0.0068\n",
            "Epoch 163/300\n",
            "46/46 [==============================] - 1s 28ms/step - loss: 2.9880e-05 - val_loss: 0.0062\n",
            "Epoch 164/300\n",
            "46/46 [==============================] - 1s 28ms/step - loss: 3.1563e-05 - val_loss: 0.0070\n",
            "Epoch 165/300\n",
            "46/46 [==============================] - 1s 28ms/step - loss: 2.7394e-05 - val_loss: 0.0068\n",
            "Epoch 166/300\n",
            "46/46 [==============================] - 1s 27ms/step - loss: 2.9988e-05 - val_loss: 0.0072\n",
            "Epoch 167/300\n",
            "46/46 [==============================] - 1s 29ms/step - loss: 3.0425e-05 - val_loss: 0.0076\n",
            "Epoch 168/300\n",
            "46/46 [==============================] - 2s 43ms/step - loss: 2.7329e-05 - val_loss: 0.0068\n",
            "Epoch 169/300\n",
            "46/46 [==============================] - 2s 41ms/step - loss: 2.7226e-05 - val_loss: 0.0071\n",
            "Epoch 170/300\n",
            "46/46 [==============================] - 1s 29ms/step - loss: 3.1090e-05 - val_loss: 0.0065\n",
            "Epoch 171/300\n",
            "46/46 [==============================] - 1s 28ms/step - loss: 2.5985e-05 - val_loss: 0.0070\n",
            "Epoch 172/300\n",
            "46/46 [==============================] - 1s 29ms/step - loss: 3.1508e-05 - val_loss: 0.0063\n",
            "Epoch 173/300\n",
            "46/46 [==============================] - 1s 29ms/step - loss: 2.6566e-05 - val_loss: 0.0062\n",
            "Epoch 174/300\n",
            "46/46 [==============================] - 1s 28ms/step - loss: 2.9119e-05 - val_loss: 0.0068\n",
            "Epoch 175/300\n",
            "46/46 [==============================] - 1s 28ms/step - loss: 2.7582e-05 - val_loss: 0.0064\n",
            "Epoch 176/300\n",
            "46/46 [==============================] - 1s 28ms/step - loss: 2.9352e-05 - val_loss: 0.0061\n",
            "Epoch 177/300\n",
            "46/46 [==============================] - 2s 42ms/step - loss: 2.6540e-05 - val_loss: 0.0063\n",
            "Epoch 178/300\n",
            "46/46 [==============================] - 2s 38ms/step - loss: 2.6475e-05 - val_loss: 0.0067\n",
            "Epoch 179/300\n",
            "46/46 [==============================] - 1s 29ms/step - loss: 2.4503e-05 - val_loss: 0.0059\n",
            "Epoch 180/300\n",
            "46/46 [==============================] - 1s 29ms/step - loss: 2.5770e-05 - val_loss: 0.0063\n",
            "Epoch 181/300\n",
            "46/46 [==============================] - 1s 28ms/step - loss: 2.9595e-05 - val_loss: 0.0056\n",
            "Epoch 182/300\n",
            "46/46 [==============================] - 1s 28ms/step - loss: 3.1560e-05 - val_loss: 0.0060\n",
            "Epoch 183/300\n",
            "46/46 [==============================] - 1s 27ms/step - loss: 2.4348e-05 - val_loss: 0.0065\n",
            "Epoch 184/300\n",
            "46/46 [==============================] - 1s 28ms/step - loss: 2.3985e-05 - val_loss: 0.0062\n",
            "Epoch 185/300\n",
            "46/46 [==============================] - 1s 28ms/step - loss: 2.7473e-05 - val_loss: 0.0061\n",
            "Epoch 186/300\n",
            "46/46 [==============================] - 2s 37ms/step - loss: 2.3459e-05 - val_loss: 0.0064\n",
            "Epoch 187/300\n",
            "46/46 [==============================] - 2s 43ms/step - loss: 2.5346e-05 - val_loss: 0.0064\n",
            "Epoch 188/300\n",
            "46/46 [==============================] - 1s 28ms/step - loss: 2.3661e-05 - val_loss: 0.0069\n",
            "Epoch 189/300\n",
            "46/46 [==============================] - 1s 27ms/step - loss: 2.8781e-05 - val_loss: 0.0064\n",
            "Epoch 190/300\n",
            "46/46 [==============================] - 1s 28ms/step - loss: 2.3178e-05 - val_loss: 0.0061\n",
            "Epoch 191/300\n",
            "46/46 [==============================] - 1s 29ms/step - loss: 2.6125e-05 - val_loss: 0.0057\n",
            "Epoch 192/300\n",
            "46/46 [==============================] - 1s 28ms/step - loss: 2.5452e-05 - val_loss: 0.0058\n",
            "Epoch 193/300\n",
            "46/46 [==============================] - 1s 28ms/step - loss: 2.5159e-05 - val_loss: 0.0063\n",
            "Epoch 194/300\n",
            "46/46 [==============================] - 1s 28ms/step - loss: 2.3492e-05 - val_loss: 0.0062\n",
            "Epoch 195/300\n",
            "46/46 [==============================] - 2s 34ms/step - loss: 2.2473e-05 - val_loss: 0.0065\n",
            "Epoch 196/300\n",
            "46/46 [==============================] - 2s 41ms/step - loss: 2.5835e-05 - val_loss: 0.0062\n",
            "Epoch 197/300\n",
            "46/46 [==============================] - 2s 32ms/step - loss: 2.3227e-05 - val_loss: 0.0061\n",
            "Epoch 198/300\n",
            "46/46 [==============================] - 1s 28ms/step - loss: 2.6803e-05 - val_loss: 0.0056\n",
            "Epoch 199/300\n",
            "46/46 [==============================] - 1s 28ms/step - loss: 2.2960e-05 - val_loss: 0.0059\n",
            "Epoch 200/300\n",
            "46/46 [==============================] - 1s 28ms/step - loss: 3.0025e-05 - val_loss: 0.0061\n",
            "Epoch 201/300\n",
            "46/46 [==============================] - 1s 27ms/step - loss: 2.5943e-05 - val_loss: 0.0062\n",
            "Epoch 202/300\n",
            "46/46 [==============================] - 1s 28ms/step - loss: 2.2592e-05 - val_loss: 0.0060\n",
            "Epoch 203/300\n",
            "46/46 [==============================] - 1s 28ms/step - loss: 2.4055e-05 - val_loss: 0.0060\n",
            "Epoch 204/300\n",
            "46/46 [==============================] - 1s 28ms/step - loss: 2.3502e-05 - val_loss: 0.0056\n",
            "Epoch 205/300\n",
            "46/46 [==============================] - 2s 43ms/step - loss: 2.5244e-05 - val_loss: 0.0063\n",
            "Epoch 206/300\n",
            "46/46 [==============================] - 2s 37ms/step - loss: 2.1159e-05 - val_loss: 0.0065\n",
            "Epoch 207/300\n",
            "46/46 [==============================] - 1s 29ms/step - loss: 2.2080e-05 - val_loss: 0.0066\n",
            "Epoch 208/300\n",
            "46/46 [==============================] - 1s 29ms/step - loss: 2.1934e-05 - val_loss: 0.0062\n",
            "Epoch 209/300\n",
            "46/46 [==============================] - 1s 28ms/step - loss: 2.1387e-05 - val_loss: 0.0061\n",
            "Epoch 210/300\n",
            "46/46 [==============================] - 1s 28ms/step - loss: 2.2060e-05 - val_loss: 0.0062\n",
            "Epoch 211/300\n",
            "46/46 [==============================] - 1s 27ms/step - loss: 2.0926e-05 - val_loss: 0.0078\n",
            "Epoch 212/300\n",
            "46/46 [==============================] - 1s 29ms/step - loss: 2.8609e-05 - val_loss: 0.0060\n",
            "Epoch 213/300\n",
            "46/46 [==============================] - 1s 28ms/step - loss: 2.8239e-05 - val_loss: 0.0063\n",
            "Epoch 214/300\n",
            "46/46 [==============================] - 2s 40ms/step - loss: 2.8801e-05 - val_loss: 0.0063\n",
            "Epoch 215/300\n",
            "46/46 [==============================] - 2s 41ms/step - loss: 2.6739e-05 - val_loss: 0.0069\n",
            "Epoch 216/300\n",
            "46/46 [==============================] - 1s 29ms/step - loss: 2.4530e-05 - val_loss: 0.0070\n",
            "Epoch 217/300\n",
            "46/46 [==============================] - 1s 30ms/step - loss: 2.2623e-05 - val_loss: 0.0064\n",
            "Epoch 218/300\n",
            "46/46 [==============================] - 1s 27ms/step - loss: 2.1740e-05 - val_loss: 0.0060\n",
            "Epoch 219/300\n",
            "46/46 [==============================] - 1s 28ms/step - loss: 2.4455e-05 - val_loss: 0.0059\n",
            "Epoch 220/300\n",
            "46/46 [==============================] - 1s 29ms/step - loss: 2.6599e-05 - val_loss: 0.0062\n",
            "Epoch 221/300\n",
            "46/46 [==============================] - 1s 28ms/step - loss: 2.1440e-05 - val_loss: 0.0070\n",
            "Epoch 222/300\n",
            "46/46 [==============================] - 1s 28ms/step - loss: 2.3252e-05 - val_loss: 0.0065\n",
            "Epoch 223/300\n",
            "46/46 [==============================] - 2s 36ms/step - loss: 2.3134e-05 - val_loss: 0.0065\n",
            "Epoch 224/300\n",
            "46/46 [==============================] - 2s 42ms/step - loss: 2.1756e-05 - val_loss: 0.0063\n",
            "Epoch 225/300\n",
            "46/46 [==============================] - 1s 27ms/step - loss: 2.3194e-05 - val_loss: 0.0066\n",
            "Epoch 226/300\n",
            "46/46 [==============================] - 1s 29ms/step - loss: 2.4680e-05 - val_loss: 0.0070\n",
            "Epoch 227/300\n",
            "46/46 [==============================] - 1s 28ms/step - loss: 2.5191e-05 - val_loss: 0.0070\n",
            "Epoch 228/300\n",
            "46/46 [==============================] - 1s 28ms/step - loss: 2.1295e-05 - val_loss: 0.0073\n",
            "Epoch 229/300\n",
            "46/46 [==============================] - 1s 28ms/step - loss: 2.2219e-05 - val_loss: 0.0066\n",
            "Epoch 230/300\n",
            "46/46 [==============================] - 1s 28ms/step - loss: 2.3280e-05 - val_loss: 0.0071\n",
            "Epoch 231/300\n",
            "46/46 [==============================] - 1s 28ms/step - loss: 2.3273e-05 - val_loss: 0.0070\n",
            "Epoch 232/300\n",
            "46/46 [==============================] - 1s 31ms/step - loss: 2.2261e-05 - val_loss: 0.0065\n",
            "Epoch 233/300\n",
            "46/46 [==============================] - 2s 43ms/step - loss: 2.0251e-05 - val_loss: 0.0070\n",
            "Epoch 234/300\n",
            "46/46 [==============================] - 2s 34ms/step - loss: 2.1800e-05 - val_loss: 0.0066\n",
            "Epoch 235/300\n",
            "46/46 [==============================] - 1s 28ms/step - loss: 2.4063e-05 - val_loss: 0.0062\n",
            "Epoch 236/300\n",
            "46/46 [==============================] - 1s 28ms/step - loss: 2.4649e-05 - val_loss: 0.0070\n",
            "Epoch 237/300\n",
            "46/46 [==============================] - 1s 31ms/step - loss: 2.5330e-05 - val_loss: 0.0070\n",
            "Epoch 238/300\n",
            "46/46 [==============================] - 1s 29ms/step - loss: 2.1685e-05 - val_loss: 0.0071\n",
            "Epoch 239/300\n",
            "46/46 [==============================] - 1s 29ms/step - loss: 2.2422e-05 - val_loss: 0.0068\n",
            "Epoch 240/300\n",
            "46/46 [==============================] - 1s 28ms/step - loss: 2.5269e-05 - val_loss: 0.0075\n",
            "Epoch 241/300\n",
            "46/46 [==============================] - 1s 32ms/step - loss: 2.1441e-05 - val_loss: 0.0074\n",
            "Epoch 242/300\n",
            "46/46 [==============================] - 2s 42ms/step - loss: 2.1461e-05 - val_loss: 0.0073\n",
            "Epoch 243/300\n",
            "46/46 [==============================] - 2s 36ms/step - loss: 2.1614e-05 - val_loss: 0.0072\n",
            "Epoch 244/300\n",
            "46/46 [==============================] - 1s 28ms/step - loss: 2.3016e-05 - val_loss: 0.0077\n",
            "Epoch 245/300\n",
            "46/46 [==============================] - 1s 28ms/step - loss: 2.3146e-05 - val_loss: 0.0067\n",
            "Epoch 246/300\n",
            "46/46 [==============================] - 1s 28ms/step - loss: 2.7458e-05 - val_loss: 0.0072\n",
            "Epoch 247/300\n",
            "46/46 [==============================] - 1s 28ms/step - loss: 2.5393e-05 - val_loss: 0.0068\n",
            "Epoch 248/300\n",
            "46/46 [==============================] - 1s 28ms/step - loss: 2.1770e-05 - val_loss: 0.0072\n",
            "Epoch 249/300\n",
            "46/46 [==============================] - 1s 28ms/step - loss: 2.0689e-05 - val_loss: 0.0070\n",
            "Epoch 250/300\n",
            "46/46 [==============================] - 1s 31ms/step - loss: 2.0318e-05 - val_loss: 0.0072\n",
            "Epoch 251/300\n",
            "46/46 [==============================] - 2s 41ms/step - loss: 2.2341e-05 - val_loss: 0.0073\n",
            "Epoch 252/300\n",
            "46/46 [==============================] - 2s 39ms/step - loss: 2.2477e-05 - val_loss: 0.0074\n",
            "Epoch 253/300\n",
            "46/46 [==============================] - 1s 28ms/step - loss: 2.1840e-05 - val_loss: 0.0080\n",
            "Epoch 254/300\n",
            "46/46 [==============================] - 1s 28ms/step - loss: 2.2864e-05 - val_loss: 0.0073\n",
            "Epoch 255/300\n",
            "46/46 [==============================] - 1s 28ms/step - loss: 2.3162e-05 - val_loss: 0.0072\n",
            "Epoch 256/300\n",
            "46/46 [==============================] - 1s 28ms/step - loss: 2.0551e-05 - val_loss: 0.0081\n",
            "Epoch 257/300\n",
            "46/46 [==============================] - 1s 31ms/step - loss: 2.0644e-05 - val_loss: 0.0075\n",
            "Epoch 258/300\n",
            "46/46 [==============================] - 1s 28ms/step - loss: 2.1320e-05 - val_loss: 0.0074\n",
            "Epoch 259/300\n",
            "46/46 [==============================] - 1s 28ms/step - loss: 2.2114e-05 - val_loss: 0.0086\n",
            "Epoch 260/300\n",
            "46/46 [==============================] - 2s 39ms/step - loss: 2.8589e-05 - val_loss: 0.0082\n",
            "Epoch 261/300\n",
            "46/46 [==============================] - 2s 42ms/step - loss: 1.9852e-05 - val_loss: 0.0078\n",
            "Epoch 262/300\n",
            "46/46 [==============================] - 1s 27ms/step - loss: 1.9926e-05 - val_loss: 0.0073\n",
            "Epoch 263/300\n",
            "46/46 [==============================] - 1s 28ms/step - loss: 2.3574e-05 - val_loss: 0.0081\n",
            "Epoch 264/300\n",
            "46/46 [==============================] - 1s 29ms/step - loss: 2.1381e-05 - val_loss: 0.0083\n",
            "Epoch 265/300\n",
            "46/46 [==============================] - 1s 28ms/step - loss: 2.4387e-05 - val_loss: 0.0079\n",
            "Epoch 266/300\n",
            "46/46 [==============================] - 1s 28ms/step - loss: 1.9891e-05 - val_loss: 0.0082\n",
            "Epoch 267/300\n",
            "46/46 [==============================] - 1s 28ms/step - loss: 2.0340e-05 - val_loss: 0.0083\n",
            "Epoch 268/300\n",
            "46/46 [==============================] - 1s 28ms/step - loss: 2.1266e-05 - val_loss: 0.0077\n",
            "Epoch 269/300\n",
            "46/46 [==============================] - 2s 35ms/step - loss: 2.0988e-05 - val_loss: 0.0089\n",
            "Epoch 270/300\n",
            "46/46 [==============================] - 2s 43ms/step - loss: 2.0676e-05 - val_loss: 0.0085\n",
            "Epoch 271/300\n",
            "46/46 [==============================] - 1s 28ms/step - loss: 2.4320e-05 - val_loss: 0.0081\n",
            "Epoch 272/300\n",
            "46/46 [==============================] - 1s 29ms/step - loss: 2.9641e-05 - val_loss: 0.0086\n",
            "Epoch 273/300\n",
            "46/46 [==============================] - 1s 28ms/step - loss: 2.1186e-05 - val_loss: 0.0092\n",
            "Epoch 274/300\n",
            "46/46 [==============================] - 1s 28ms/step - loss: 2.0639e-05 - val_loss: 0.0082\n",
            "Epoch 275/300\n",
            "46/46 [==============================] - 1s 29ms/step - loss: 2.2621e-05 - val_loss: 0.0082\n",
            "Epoch 276/300\n",
            "46/46 [==============================] - 1s 28ms/step - loss: 2.0649e-05 - val_loss: 0.0092\n",
            "Epoch 277/300\n",
            "46/46 [==============================] - 1s 29ms/step - loss: 2.1654e-05 - val_loss: 0.0086\n",
            "Epoch 278/300\n",
            "46/46 [==============================] - 2s 34ms/step - loss: 2.2096e-05 - val_loss: 0.0080\n",
            "Epoch 279/300\n",
            "46/46 [==============================] - 2s 41ms/step - loss: 2.0007e-05 - val_loss: 0.0081\n",
            "Epoch 280/300\n",
            "46/46 [==============================] - 2s 33ms/step - loss: 2.1307e-05 - val_loss: 0.0086\n",
            "Epoch 281/300\n",
            "46/46 [==============================] - 1s 28ms/step - loss: 2.3214e-05 - val_loss: 0.0079\n",
            "Epoch 282/300\n",
            "46/46 [==============================] - 1s 28ms/step - loss: 2.4768e-05 - val_loss: 0.0083\n",
            "Epoch 283/300\n",
            "46/46 [==============================] - 1s 28ms/step - loss: 2.1995e-05 - val_loss: 0.0081\n",
            "Epoch 284/300\n",
            "46/46 [==============================] - 1s 28ms/step - loss: 2.0533e-05 - val_loss: 0.0090\n",
            "Epoch 285/300\n",
            "46/46 [==============================] - 1s 28ms/step - loss: 2.3964e-05 - val_loss: 0.0087\n",
            "Epoch 286/300\n",
            "46/46 [==============================] - 1s 29ms/step - loss: 1.9496e-05 - val_loss: 0.0089\n",
            "Epoch 287/300\n",
            "46/46 [==============================] - 1s 29ms/step - loss: 1.9420e-05 - val_loss: 0.0087\n",
            "Epoch 288/300\n",
            "46/46 [==============================] - 2s 45ms/step - loss: 2.0787e-05 - val_loss: 0.0084\n",
            "Epoch 289/300\n",
            "46/46 [==============================] - 2s 35ms/step - loss: 2.1331e-05 - val_loss: 0.0085\n",
            "Epoch 290/300\n",
            "46/46 [==============================] - 1s 29ms/step - loss: 2.0241e-05 - val_loss: 0.0091\n",
            "Epoch 291/300\n",
            "46/46 [==============================] - 1s 27ms/step - loss: 2.6607e-05 - val_loss: 0.0089\n",
            "Epoch 292/300\n",
            "46/46 [==============================] - 1s 28ms/step - loss: 2.1268e-05 - val_loss: 0.0090\n",
            "Epoch 293/300\n",
            "46/46 [==============================] - 1s 28ms/step - loss: 2.0481e-05 - val_loss: 0.0082\n",
            "Epoch 294/300\n",
            "46/46 [==============================] - 1s 30ms/step - loss: 2.2308e-05 - val_loss: 0.0089\n",
            "Epoch 295/300\n",
            "46/46 [==============================] - 1s 28ms/step - loss: 1.9788e-05 - val_loss: 0.0088\n",
            "Epoch 296/300\n",
            "46/46 [==============================] - 1s 27ms/step - loss: 2.0320e-05 - val_loss: 0.0090\n",
            "Epoch 297/300\n",
            "46/46 [==============================] - 2s 42ms/step - loss: 2.0136e-05 - val_loss: 0.0094\n",
            "Epoch 298/300\n",
            "46/46 [==============================] - 2s 38ms/step - loss: 2.1120e-05 - val_loss: 0.0087\n",
            "Epoch 299/300\n",
            "46/46 [==============================] - 1s 28ms/step - loss: 1.9336e-05 - val_loss: 0.0091\n",
            "Epoch 300/300\n",
            "46/46 [==============================] - 1s 28ms/step - loss: 1.9409e-05 - val_loss: 0.0086\n"
          ]
        },
        {
          "output_type": "execute_result",
          "data": {
            "text/plain": [
              "<keras.callbacks.History at 0x7f95b8f63cd0>"
            ]
          },
          "metadata": {},
          "execution_count": 21
        }
      ],
      "source": [
        "model.fit(X_train,y_train,validation_data=(X_test,ytest),epochs=300,batch_size=64)"
      ]
    },
    {
      "cell_type": "code",
      "source": [
        "model.evaluate(X_train, y_train)"
      ],
      "metadata": {
        "id": "nvbSmFXkEDgW",
        "colab": {
          "base_uri": "https://localhost:8080/"
        },
        "outputId": "c7e65cae-aea7-45e1-8439-fc0455f4b318"
      },
      "execution_count": null,
      "outputs": [
        {
          "output_type": "stream",
          "name": "stdout",
          "text": [
            "91/91 [==============================] - 1s 6ms/step - loss: 2.0352e-05\n"
          ]
        },
        {
          "output_type": "execute_result",
          "data": {
            "text/plain": [
              "2.0352341380203143e-05"
            ]
          },
          "metadata": {},
          "execution_count": 22
        }
      ]
    },
    {
      "cell_type": "code",
      "execution_count": null,
      "metadata": {
        "id": "3jSLJPcA8uQW",
        "colab": {
          "base_uri": "https://localhost:8080/"
        },
        "outputId": "e7baa1a7-3821-4679-cde2-725bc96f4e6a"
      },
      "outputs": [
        {
          "output_type": "stream",
          "name": "stdout",
          "text": [
            "91/91 [==============================] - 2s 6ms/step\n",
            "49/49 [==============================] - 0s 6ms/step\n",
            "[[0.0096226 ]\n",
            " [0.00919107]\n",
            " [0.00872692]\n",
            " ...\n",
            " [0.37098297]\n",
            " [0.37122127]\n",
            " [0.36859584]]\n",
            "[[0.36253804]\n",
            " [0.35705516]\n",
            " [0.36630562]\n",
            " ...\n",
            " [0.7408196 ]\n",
            " [0.7373042 ]\n",
            " [0.7397932 ]]\n",
            "[0.00149616 0.00040804 0.00160852 ... 0.3690479  0.36661739 0.37518037]\n",
            "[[0.0096226 ]\n",
            " [0.00919107]\n",
            " [0.00872692]\n",
            " ...\n",
            " [0.37098297]\n",
            " [0.37122127]\n",
            " [0.36859584]]\n",
            "+----------------------+---------------------+---------------------------+--------+\n",
            "| Last Known : X_train |   Actual : y_train  | Predicted : train_predict | Action |\n",
            "+----------------------+---------------------+---------------------------+--------+\n",
            "|     [0.3719929]      | 0.36571850975753994 |        [0.37340367]       |  long  |\n",
            "|     [0.36571851]     | 0.36819633353045533 |        [0.3670217]        |  long  |\n",
            "|     [0.36819633]     | 0.36904790065050264 |        [0.37098297]       |  long  |\n",
            "|     [0.3690479]      |  0.3666173861620343 |        [0.37122127]       |  long  |\n",
            "|     [0.36661739]     |  0.3751803666469544 |        [0.36859584]       |  long  |\n",
            "+----------------------+---------------------+---------------------------+--------+\n",
            "+---------------------+--------------------+--------------------------+--------+\n",
            "| Last Known : X_test |   Actual : ytest   | Predicted : test_predict | Action |\n",
            "+---------------------+--------------------+--------------------------+--------+\n",
            "|     [0.89917209]    | 0.901797752808989  |       [0.7432098]        | short  |\n",
            "|     [0.90179775]    | 0.8973625073920758 |       [0.7424701]        | short  |\n",
            "|     [0.89736251]    | 0.8895653459491425 |       [0.7408196]        | short  |\n",
            "|     [0.88956535]    | 0.8919692489651095 |       [0.7373042]        | short  |\n",
            "|     [0.89196925]    | 0.8899586043761089 |       [0.7397932]        | short  |\n",
            "+---------------------+--------------------+--------------------------+--------+\n"
          ]
        }
      ],
      "source": [
        "# Predicting \n",
        "train_predict = model.predict(X_train)\n",
        "test_predict = model.predict(X_test)\n",
        "print(train_predict)\n",
        "print(test_predict)\n",
        "print(y_train)\n",
        "print(train_predict)\n",
        "\n",
        "from prettytable import PrettyTable\n",
        "train_table = PrettyTable()\n",
        "train_table.field_names = [\"Last Known : X_train\", \"Actual : y_train\", \"Predicted : train_predict\", \"Action\"]\n",
        "for i in range(len(y_train)):\n",
        "  if(X_train[i][-1] < train_predict[i]):\n",
        "    train_table.add_row([X_train[i][-1],y_train[i],train_predict[i],\"long\"])\n",
        "  else:\n",
        "    train_table.add_row([X_train[i][-1],y_train[i],train_predict[i],\"short\"])\n",
        "print(train_table[-5:])\n",
        "\n",
        "test_table = PrettyTable()\n",
        "test_table.field_names = [\"Last Known : X_test\",\"Actual : ytest\", \"Predicted : test_predict\", \"Action\"]\n",
        "for i in range(len(ytest)):\n",
        "  if(X_test[i][-1] < test_predict[i]):\n",
        "    test_table.add_row([X_test[i][-1],ytest[i],test_predict[i],\"long\"])\n",
        "  else:\n",
        "    test_table.add_row([X_test[i][-1],ytest[i],test_predict[i],\"short\"])\n",
        "print(test_table[-5:])"
      ]
    },
    {
      "cell_type": "code",
      "execution_count": null,
      "metadata": {
        "id": "b0WIgUPH8uQW"
      },
      "outputs": [],
      "source": [
        "# Data inverse transform\n",
        "train_predict = scaler.inverse_transform(train_predict)\n",
        "test_predict = scaler.inverse_transform(test_predict)"
      ]
    },
    {
      "cell_type": "code",
      "execution_count": null,
      "metadata": {
        "id": "Re6FW3c48uQW"
      },
      "outputs": [],
      "source": [
        "# MAE MSE RMSE \n",
        "import math\n",
        "from sklearn.metrics import mean_absolute_error, mean_squared_error"
      ]
    },
    {
      "cell_type": "code",
      "execution_count": null,
      "metadata": {
        "id": "BdoyHwM88uQX",
        "colab": {
          "base_uri": "https://localhost:8080/"
        },
        "outputId": "736006b6-262e-4fe2-bce4-2a0c24e3ecd7"
      },
      "outputs": [
        {
          "output_type": "stream",
          "name": "stdout",
          "text": [
            "MAE: 11851.199236053633\n",
            "MSE: 144326332.6992825\n",
            "RMSE: 12013.589501031009\n"
          ]
        }
      ],
      "source": [
        "# Test Data RMSE\n",
        "mae = mean_absolute_error(ytest, test_predict)\n",
        "mse = mean_squared_error(ytest, test_predict)\n",
        "rmse = np.sqrt(mse)\n",
        "\n",
        "print(\"MAE:\", mae)\n",
        "print(\"MSE:\", mse)\n",
        "print(\"RMSE:\", rmse)"
      ]
    },
    {
      "cell_type": "code",
      "execution_count": null,
      "metadata": {
        "id": "C6zoXQY28uQX",
        "colab": {
          "base_uri": "https://localhost:8080/",
          "height": 430
        },
        "outputId": "98d69fdf-79b8-47e2-f58e-a520d1834c6c"
      },
      "outputs": [
        {
          "output_type": "display_data",
          "data": {
            "text/plain": [
              "<Figure size 640x480 with 1 Axes>"
            ],
            "image/png": "[encoded data removed]"
          },
          "metadata": {}
        }
      ],
      "source": [
        "# shift train predictions for plotting\n",
        "look_back=time_step\n",
        "trainPredictPlot = numpy.empty_like(df1)\n",
        "trainPredictPlot[:, :] = np.nan\n",
        "trainPredictPlot[look_back:len(train_predict)+look_back, :] = train_predict\n",
        "\n",
        "# shift test predictions for plotting\n",
        "testPredictPlot = numpy.empty_like(df1)\n",
        "testPredictPlot[:, :] = numpy.nan\n",
        "testPredictPlot[len(train_predict)+(look_back*2)+1:len(df1)-1, :] = test_predict\n",
        "\n",
        "# plot baseline and predictions\n",
        "plt.plot(scaler.inverse_transform(df1))\n",
        "plt.plot(trainPredictPlot)\n",
        "plt.plot(testPredictPlot)\n",
        "plt.show()"
      ]
    },
    {
      "cell_type": "code",
      "execution_count": null,
      "metadata": {
        "id": "uHHL_DKl8uQX",
        "colab": {
          "base_uri": "https://localhost:8080/"
        },
        "outputId": "6255daac-8c37-4419-f644-758c7bca3203"
      },
      "outputs": [
        {
          "output_type": "stream",
          "name": "stdout",
          "text": [
            "[[0.37068598]\n",
            " [0.37370195]\n",
            " [0.37137197]\n",
            " ...\n",
            " [0.89196925]\n",
            " [0.8899586 ]\n",
            " [0.89758723]]\n"
          ]
        }
      ],
      "source": [
        "len(test_data)\n",
        "print(test_data)"
      ]
    },
    {
      "cell_type": "code",
      "execution_count": null,
      "metadata": {
        "id": "O7bo5RCy8uQY",
        "colab": {
          "base_uri": "https://localhost:8080/"
        },
        "outputId": "96591c45-5abd-44e5-b152-4b767b0ddf1b"
      },
      "outputs": [
        {
          "output_type": "stream",
          "name": "stdout",
          "text": [
            "(1, 100)\n",
            "[0.9639444115907746, 0.9612359550561799, 0.9536191602602012, 0.9726315789473684, 0.9714163217031343, 0.9758072146658784, 0.9761768184506211, 0.9722885866351273, 0.9701448846836193, 0.9614104080425784, 0.9663926670609108, 0.967755765819042, 0.9805795387344766, 0.9822738024837375, 0.9852306327616794, 0.9885008870490833, 0.9967977528089887, 1.0, 0.993116499112951, 0.9934092253104673, 0.9899615612063869, 0.9850975753991721, 0.9879863985807215, 0.9813187463039622, 0.9813512714370197, 0.9879065641632171, 0.9909994086339443, 0.9764872856298049, 0.96785925487877, 0.9768154937906565, 0.9747368421052632, 0.963725606150207, 0.95948255470136, 0.9405263157894738, 0.9528149024246008, 0.9597752808988763, 0.9591957421643998, 0.9632465996451803, 0.9581785925487877, 0.9636280307510349, 0.9657037256061501, 0.954491425192194, 0.951487285629805, 0.9436398580721467, 0.9579361324659966, 0.9468746303962153, 0.9457835600236547, 0.9435659373151982, 0.9493849793021879, 0.9457332939089297, 0.955103489059728, 0.9617297457125961, 0.9583293908929628, 0.9535866351271439, 0.9589621525724424, 0.9589473684210527, 0.9455617977528091, 0.9285541099940863, 0.9311916026020107, 0.9319722057953875, 0.9292607924305144, 0.9289118864577174, 0.943320520402129, 0.9380307510348905, 0.9354819633353045, 0.9443642814902425, 0.9456505026611474, 0.9434654050857482, 0.9384033116499114, 0.947803075103489, 0.9528888231815494, 0.9540715552927262, 0.9486516853932586, 0.9427616794795978, 0.9417031342400947, 0.9255943228858664, 0.9230484920165584, 0.9203607332939089, 0.9160378474275578, 0.9107894736842107, 0.9194795978710822, 0.9118509757539918, 0.927962743938498, 0.9348876404494383, 0.9374275576581906, 0.9276818450620935, 0.9172324068598464, 0.90193968066233, 0.8953755174452985, 0.8911679479597873, 0.8919633353045534, 0.8987315198107629, 0.8921289178001185, 0.8991720875221764, 0.901797752808989, 0.8973625073920758, 0.8895653459491425, 0.8919692489651095, 0.8899586043761089, 0.8975872264931993]\n"
          ]
        }
      ],
      "source": [
        "x_input = test_data[1463:].reshape(1,-1)\n",
        "print(x_input.shape)\n",
        "temp_input = list(x_input)\n",
        "temp_input = temp_input[0].tolist()\n",
        "print(temp_input)"
      ]
    },
    {
      "cell_type": "code",
      "execution_count": null,
      "metadata": {
        "id": "wX4SsWwg8uQZ",
        "colab": {
          "base_uri": "https://localhost:8080/"
        },
        "outputId": "b069e209-5907-4150-c9d0-b1834a900ad6"
      },
      "outputs": [
        {
          "output_type": "stream",
          "name": "stdout",
          "text": [
            "0 day input [0.95361916 0.97263158 0.97141632 0.97580721 0.97617682 0.97228859\n",
            " 0.97014488 0.96141041 0.96639267 0.96775577 0.98057954 0.9822738\n",
            " 0.98523063 0.98850089 0.99679775 1.         0.9931165  0.99340923\n",
            " 0.98996156 0.98509758 0.9879864  0.98131875 0.98135127 0.98790656\n",
            " 0.99099941 0.97648729 0.96785925 0.97681549 0.97473684 0.96372561\n",
            " 0.95948255 0.94052632 0.9528149  0.95977528 0.95919574 0.9632466\n",
            " 0.95817859 0.96362803 0.96570373 0.95449143 0.95148729 0.94363986\n",
            " 0.95793613 0.94687463 0.94578356 0.94356594 0.94938498 0.94573329\n",
            " 0.95510349 0.96172975 0.95832939 0.95358664 0.95896215 0.95894737\n",
            " 0.9455618  0.92855411 0.9311916  0.93197221 0.92926079 0.92891189\n",
            " 0.94332052 0.93803075 0.93548196 0.94436428 0.9456505  0.94346541\n",
            " 0.93840331 0.94780308 0.95288882 0.95407156 0.94865169 0.94276168\n",
            " 0.94170313 0.92559432 0.92304849 0.92036073 0.91603785 0.91078947\n",
            " 0.9194796  0.91185098 0.92796274 0.93488764 0.93742756 0.92768185\n",
            " 0.91723241 0.90193968 0.89537552 0.89116795 0.89196334 0.89873152\n",
            " 0.89212892 0.89917209 0.90179775 0.89736251 0.88956535 0.89196925\n",
            " 0.8899586  0.89758723 0.74105829 0.63931179]\n",
            "0 day output [[0.6045425]]\n",
            "1 day input [0.97263158 0.97141632 0.97580721 0.97617682 0.97228859 0.97014488\n",
            " 0.96141041 0.96639267 0.96775577 0.98057954 0.9822738  0.98523063\n",
            " 0.98850089 0.99679775 1.         0.9931165  0.99340923 0.98996156\n",
            " 0.98509758 0.9879864  0.98131875 0.98135127 0.98790656 0.99099941\n",
            " 0.97648729 0.96785925 0.97681549 0.97473684 0.96372561 0.95948255\n",
            " 0.94052632 0.9528149  0.95977528 0.95919574 0.9632466  0.95817859\n",
            " 0.96362803 0.96570373 0.95449143 0.95148729 0.94363986 0.95793613\n",
            " 0.94687463 0.94578356 0.94356594 0.94938498 0.94573329 0.95510349\n",
            " 0.96172975 0.95832939 0.95358664 0.95896215 0.95894737 0.9455618\n",
            " 0.92855411 0.9311916  0.93197221 0.92926079 0.92891189 0.94332052\n",
            " 0.93803075 0.93548196 0.94436428 0.9456505  0.94346541 0.93840331\n",
            " 0.94780308 0.95288882 0.95407156 0.94865169 0.94276168 0.94170313\n",
            " 0.92559432 0.92304849 0.92036073 0.91603785 0.91078947 0.9194796\n",
            " 0.91185098 0.92796274 0.93488764 0.93742756 0.92768185 0.91723241\n",
            " 0.90193968 0.89537552 0.89116795 0.89196334 0.89873152 0.89212892\n",
            " 0.89917209 0.90179775 0.89736251 0.88956535 0.89196925 0.8899586\n",
            " 0.89758723 0.74105829 0.63931179 0.60454249]\n",
            "1 day output [[0.5816828]]\n",
            "[[0.6045424938201904], [0.5816828012466431]]\n"
          ]
        }
      ],
      "source": [
        "# Prediction for next 2 days\n",
        "from numpy import array\n",
        "\n",
        "lst_output = []\n",
        "n_steps = 100\n",
        "i = 0\n",
        "while(i<2):\n",
        "    \n",
        "    if(len(temp_input)>100):\n",
        "        x_input = np.array(temp_input[1:])\n",
        "        print(\"{} day input {}\".format(i,x_input))\n",
        "        x_input = x_input.reshape(1,-1)\n",
        "        x_input = x_input.reshape((1, n_steps, 1))\n",
        "        yhat = model.predict(x_input, verbose=0)\n",
        "        print(\"{} day output {}\".format(i,yhat))\n",
        "        temp_input.extend(yhat[0].tolist())\n",
        "        temp_input = temp_input[1:]\n",
        "        lst_output.extend(yhat.tolist())\n",
        "        i = i+1\n",
        "    else:\n",
        "        x_input = x_input.reshape((1, n_steps,1))\n",
        "        yhat = model.predict(x_input, verbose=0)\n",
        "        print(yhat[0])\n",
        "        temp_input.extend(yhat[0].tolist())\n",
        "        print(len(temp_input))\n",
        "        lst_output.extend(yhat.tolist())\n",
        "        i=i+1\n",
        "    \n",
        "print(lst_output)"
      ]
    },
    {
      "cell_type": "code",
      "execution_count": null,
      "metadata": {
        "id": "MMgJhdJa8uQZ"
      },
      "outputs": [],
      "source": [
        "import matplotlib.pyplot as plt\n",
        "df1 =  scaler.inverse_transform(df1)"
      ]
    },
    {
      "cell_type": "code",
      "source": [
        "df2 = np.concatenate((train_predict,test_predict,scaler.inverse_transform(lst_output)))\n",
        "plt.plot(df1, color = 'blue', label = 'Actual Price')\n",
        "plt.plot(df2, color = 'green', label = 'Predicted Price')\n",
        "plt.title('NIFTY 50 Stock Price Prediction')\n",
        "plt.xlabel('Time')\n",
        "plt.ylabel('Stock Price')\n",
        "plt.legend()\n",
        "plt.show()"
      ],
      "metadata": {
        "colab": {
          "base_uri": "https://localhost:8080/",
          "height": 472
        },
        "id": "I38RtmHpMOnr",
        "outputId": "2ad7c5a4-f296-44e6-cd50-649a7be98011"
      },
      "execution_count": null,
      "outputs": [
        {
          "output_type": "display_data",
          "data": {
            "text/plain": [
              "<Figure size 640x480 with 1 Axes>"
            ],
            "image/png": "[encoded data removed]"
          },
          "metadata": {}
        }
      ]
    }
  ],
  "metadata": {
    "kernelspec": {
      "display_name": "Python 3",
      "language": "python",
      "name": "python3"
    },
    "language_info": {
      "codemirror_mode": {
        "name": "ipython",
        "version": 3
      },
      "file_extension": ".py",
      "mimetype": "text/x-python",
      "name": "python",
      "nbconvert_exporter": "python",
      "pygments_lexer": "ipython3",
      "version": "3.6.9"
    },
    "colab": {
      "provenance": []
    }
  },
  "nbformat": 4,
  "nbformat_minor": 0
}