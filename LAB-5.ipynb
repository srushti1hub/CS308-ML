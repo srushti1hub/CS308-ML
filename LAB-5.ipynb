{
  "nbformat": 4,
  "nbformat_minor": 0,
  "metadata": {
    "colab": {
      "provenance": []
    },
    "kernelspec": {
      "name": "python3",
      "display_name": "Python 3"
    }
  },
  "cells": [
    {
      "cell_type": "markdown",
      "metadata": {
        "id": "h6WZR-vQ0xwH"
      },
      "source": [
        "# <center> IIIT Vadodara </center>\n",
        "## <center> Winter 2022-23 </center>\n",
        "## <center> CS/IT 308 Machine Learning Lab </center>\n",
        "## <center> Lab#5 Basic optimization techniques </center>"
      ]
    },
    {
      "cell_type": "code",
      "metadata": {
        "id": "Fg5GcQAI_s34"
      },
      "source": [
        "%matplotlib inline\n",
        "import numpy as np\n",
        "import matplotlib.pyplot as plt\n",
        "from scipy import misc\n",
        "from scipy.io import wavfile\n",
        "from numpy import linalg as la\n",
        "import matplotlib.image as mpimg\n",
        "import glob\n",
        "from numpy import linalg as LA\n",
        "import scipy.io as sio \n",
        "import copy"
      ],
      "execution_count": null,
      "outputs": []
    },
    {
      "cell_type": "markdown",
      "metadata": {
        "id": "D8o_xdMsZyS0"
      },
      "source": [
        "## <font color='red'> **Problem 1)** \n",
        "Find minima of following functions using gradient descent method with learning rate 0.01 and 0.1 along with different number of iterations. Try choosing a large value of learning rate and test the convergence. Plot the functions, highlight corresponding minima, and show convergence/divergence on the plot.\n",
        "\n",
        "(a) $L_1(θ) = θ^2$\n",
        "\n",
        "(b) $L_2(θ) = θ_1^2 + θ_2^2$\n",
        "\n",
        "(c) $L_3(θ) = (θ - 1)^2$\n",
        "\n",
        "(d) $L_4(θ) = 2 (θ_1-1)^2 + 2(θ_2-1)^2$\n"
      ]
    },
    {
      "cell_type": "code",
      "metadata": {
        "id": "27WaLG2bWPMh",
        "colab": {
          "base_uri": "https://localhost:8080/",
          "height": 544
        },
        "outputId": "6b30e3c9-24db-4cea-b113-815d495c509a"
      },
      "source": [
        "theta = 5000000 # Initial value\n",
        "previous_theta = theta - 1\n",
        "e = 0.000001 # Accuracy \n",
        "alpha = 0.01 # Learning rate \n",
        "\n",
        "\n",
        "fig = plt.figure(figsize=(8,8))\n",
        "ax = fig.add_subplot(111)\n",
        "ax.set_xlabel(\"Iterations\")\n",
        "ax.set_ylabel(\"theta\")\n",
        "\n",
        "iteration_count = 0\n",
        "while abs(previous_theta - theta) > e and iteration_count < 10000:\n",
        "    # Derivative of L1(theta)= 2*theta\n",
        "    step_size = 2 * theta * alpha\n",
        "    ax.scatter(iteration_count, theta, c='b')\n",
        "    previous_theta = theta\n",
        "    theta = theta - step_size\n",
        "    iteration_count += 1\n",
        "\n",
        "print(\"theta: \",theta)\n",
        "print(\"iterations:\",iteration_count) "
      ],
      "execution_count": null,
      "outputs": [
        {
          "output_type": "stream",
          "name": "stdout",
          "text": [
            "theta:  4.871862228969798e-05\n",
            "iterations: 1255\n"
          ]
        },
        {
          "output_type": "display_data",
          "data": {
            "text/plain": [
              "<Figure size 576x576 with 1 Axes>"
            ],
            "image/png": "[encoded data removed]"
          },
          "metadata": {
            "needs_background": "light"
          }
        }
      ]
    },
    {
      "cell_type": "markdown",
      "metadata": {
        "id": "s_BcFsGTnH-c"
      },
      "source": [
        "Q1 (b)\n"
      ]
    },
    {
      "cell_type": "code",
      "metadata": {
        "id": "ZvCJ2TyenMQO",
        "colab": {
          "base_uri": "https://localhost:8080/",
          "height": 533
        },
        "outputId": "44f8798c-2210-49f4-8896-8e1de464c983"
      },
      "source": [
        "# Initial value\n",
        "theta0 = 10000\n",
        "theta1 = 50000\n",
        "e = 0.000001 # Accuracy\n",
        "alpha = 0.1 # Learning rate\n",
        "\n",
        "# can use while loop for |theta0-p0|>e or |theta1-p1|>e:\n",
        "theta = np.array(([[theta0],[theta1]]))\n",
        "previous_theta = theta - 1\n",
        "\n",
        "fig,ax=plt.subplots(1,2,figsize=(16,8))\n",
        "ax[0].set_xlabel(\"Iterations\")\n",
        "ax[0].set_ylabel(\"theta0\")\n",
        "ax[1].set_xlabel(\"Iterations\")\n",
        "ax[1].set_ylabel(\"theta1\")\n",
        "\n",
        "iteration_count = 0\n",
        "while (abs(theta - previous_theta) > e).any() and iteration_count < 1500:\n",
        "  # Derivative of L1(theta) = 2*(theta0+theta1)\n",
        "  step_size = 2*theta*alpha\n",
        "  ax[0].scatter(iteration_count ,theta[0],c='b')\n",
        "  ax[1].scatter(iteration_count ,theta[1],c='r')\n",
        "  \n",
        "  previous_theta = copy.deepcopy(theta)\n",
        "  theta = theta - step_size\n",
        "  iteration_count += 1\n",
        "    \n",
        "print(\"theta0: \",theta[0][0],\"theta1: \",theta[1][0])\n",
        "print(\"iterations:\",iteration_count) "
      ],
      "execution_count": null,
      "outputs": [
        {
          "output_type": "stream",
          "name": "stdout",
          "text": [
            "theta0:  6.67495948725285e-07 theta1:  3.3374797436264246e-06\n",
            "iterations: 105\n"
          ]
        },
        {
          "output_type": "display_data",
          "data": {
            "text/plain": [
              "<Figure size 1152x576 with 2 Axes>"
            ],
            "image/png": "[encoded data removed]"
          },
          "metadata": {
            "needs_background": "light"
          }
        }
      ]
    },
    {
      "cell_type": "markdown",
      "metadata": {
        "id": "BZZkgB6lnYTD"
      },
      "source": [
        "Q1 (c)"
      ]
    },
    {
      "cell_type": "code",
      "metadata": {
        "id": "pTeCNZEOnbiC",
        "colab": {
          "base_uri": "https://localhost:8080/",
          "height": 533
        },
        "outputId": "cbe71679-d2bb-43de-fd76-0c61cc60dac9"
      },
      "source": [
        "theta = 50 # Initial value\n",
        "previous_theta = theta + 1\n",
        "e = 0.000001 # Accuracy\n",
        "alpha = 0.1 # Learning Rate\n",
        "\n",
        "# while for |theta0-p|>e:\n",
        "fig=plt.figure(figsize=(8,8))\n",
        "ax=fig.add_subplot(111)\n",
        "ax.set_xlabel(\"iterations\")\n",
        "ax.set_ylabel(\"theta\")\n",
        "\n",
        "iteration_count = 0\n",
        "while abs(previous_theta-theta)>e and iteration_count<10000:\n",
        "  # Derivative of L1(theta)= 2*(theta-1)\n",
        "  step_size = 2*(theta-1)*alpha\n",
        "  ax.scatter(iteration_count,theta,c='b')\n",
        "  previous_theta = theta\n",
        "  theta = theta - step_size\n",
        "  iteration_count += 1\n",
        "    \n",
        "print(\"theta: \",theta)\n",
        "print(\"iterations:\",iteration_count) "
      ],
      "execution_count": null,
      "outputs": [
        {
          "output_type": "stream",
          "name": "stdout",
          "text": [
            "theta:  1.0000033025934667\n",
            "iterations: 74\n"
          ]
        },
        {
          "output_type": "display_data",
          "data": {
            "text/plain": [
              "<Figure size 576x576 with 1 Axes>"
            ],
            "image/png": "[encoded data removed]"
          },
          "metadata": {
            "needs_background": "light"
          }
        }
      ]
    },
    {
      "cell_type": "markdown",
      "metadata": {
        "id": "ojCcdJqBnke-"
      },
      "source": [
        "Q1 (d)"
      ]
    },
    {
      "cell_type": "code",
      "metadata": {
        "id": "RKSIdULpnm8-",
        "colab": {
          "base_uri": "https://localhost:8080/",
          "height": 533
        },
        "outputId": "59465ed3-3e72-4ce2-bd31-5bc3edab480b"
      },
      "source": [
        "theta0=10000\n",
        "theta1=50000\n",
        "e=0.000001\n",
        "alpha=0.1\n",
        "\n",
        "#while loop for |theta0-p0|>e or |theta1-p1|>e:\n",
        "theta = np.array(([[theta0],[theta1]]))\n",
        "previous_theta = theta + 1\n",
        "\n",
        "fig,ax=plt.subplots(1,2,figsize=(16,8))\n",
        "ax[0].set_xlabel(\"Iterations\")\n",
        "ax[0].set_ylabel(\"theta0\")\n",
        "ax[1].set_xlabel(\"Iterations\")\n",
        "ax[1].set_ylabel(\"theta1\")\n",
        "\n",
        "iteration_count = 0\n",
        "while (abs(theta-previous_theta)>e).any() and iteration_count<1500:\n",
        "  step_size = (4*(theta-1))*alpha\n",
        "  ax[0].scatter(iteration_count,theta[0],c='b')\n",
        "  ax[1].scatter(iteration_count,theta[1],c='r')\n",
        "  previous_theta = copy.deepcopy(theta)\n",
        "  theta = theta - step_size\n",
        "  iteration_count += 1\n",
        "\n",
        "\n",
        "print(\"theta0: \",theta[0][0],\"theta1: \",theta[1][0])\n",
        "print(\"iterations:\",iteration_count) "
      ],
      "execution_count": null,
      "outputs": [
        {
          "output_type": "stream",
          "name": "stdout",
          "text": [
            "theta0:  1.0000002245001247 theta1:  1.000001122590433\n",
            "iterations: 48\n"
          ]
        },
        {
          "output_type": "display_data",
          "data": {
            "text/plain": [
              "<Figure size 1152x576 with 2 Axes>"
            ],
            "image/png": "[encoded data removed]"
          },
          "metadata": {
            "needs_background": "light"
          }
        }
      ]
    },
    {
      "cell_type": "markdown",
      "metadata": {
        "id": "GBaGk8XQC48q"
      },
      "source": [
        "## <font color='red'> **Problem 2)** \n",
        "Consider $A=\\begin{bmatrix}\n",
        "0.7 & 0.2\\\\\n",
        "0.1 & 0.6\n",
        "\\end{bmatrix}$ and the observation matrix $b=\\begin{bmatrix}\n",
        "0.5\\\\\n",
        "0.6\n",
        "\\end{bmatrix}$ in a system $Ax=b$. However, $b$ is not in column space of $A$, thus $Ax \\neq b$ and we need to find $x$ in such a way that $Ax \\approx b$. Using linear least square $x$ can be estimated by minimizing the mean squared error as,  $\\min ||Ax-b||_2$. \n",
        "\n",
        "<br>\n",
        "This can be written as,\n",
        "        \n",
        "$\\underset{x}{\\mathrm{argmin}}||Ax-b||_{2}^{2} = f(x)$\n",
        "\n",
        "We need to find $x$ in such a way that $f(x)$ will be minimum in $L_2$ norm. \n",
        "\n",
        "<br>\n",
        "\n",
        "You need to solve this least square problem using gradient descent algortithm on $f(x)$.\n",
        "\n",
        "<br>\n",
        "To apply this algorithm we need to find gradient of the function, i.e.,\n",
        "<br>\n",
        "              $\\Delta_x f(x)= A^T(Ax-b) = A^TAx-A^Tb$\n",
        "\n",
        "<br>\n",
        "\n",
        "Optimisation for least-squares\n",
        "<br>\n",
        "$||A^TAx-A^Tb||_2>\\delta$, $\\delta$ is the small positive number indicating tolerance.\n",
        "\n",
        "<br>\n",
        "\n",
        "Now we will find new $x$ iteratively using step size $\\alpha$ to find the best fit for $AX=b$ as:\n",
        "\n",
        "<br>\n",
        "$x^{[n+1]}=x^{[n]}-\\alpha (A^TAx-A^Tb)$.\n",
        "<br>\n",
        "\n",
        "We need to choose $\\alpha$, $\\delta$ and $x^{[0]}$ to iterate until $x^{[n+1]} \\rightarrow x^{[n]}$."
      ]
    },
    {
      "cell_type": "code",
      "metadata": {
        "id": "64XWNE_tB--Z",
        "colab": {
          "base_uri": "https://localhost:8080/",
          "height": 551
        },
        "outputId": "57d9d40c-bb8a-42c5-a1c2-71f969657754"
      },
      "source": [
        "#Write your code here.\n",
        "alpha = 0.1\n",
        "e = 0.000001\n",
        "A = np.array([[0.7,0.2],[0.1,0.6]])\n",
        "B = np.array([[0.5],[0.6]])\n",
        "\n",
        "# Assumption\n",
        "x = np.array(([[10],[10]]))\n",
        "previous_x = x-1\n",
        "ATA = (A.T).dot(A)\n",
        "\n",
        "fig,ax = plt.subplots(1,2,figsize=(16,8))\n",
        "ax[0].set_xlabel(\"Iterations\")\n",
        "ax[0].set_ylabel(\"x0\")\n",
        "ax[1].set_xlabel(\"Iterations\")\n",
        "ax[1].set_ylabel(\"x1\")\n",
        "\n",
        "iteration_count = 0\n",
        "while (abs(x - previous_x) > e).any() and iteration_count<1000:\n",
        "  previous_x = copy.deepcopy(x)\n",
        "  ax[0].scatter(iteration_count,x[0],c='b')\n",
        "  ax[1].scatter(iteration_count,x[1],c='r')\n",
        "  x = x - (alpha * (ATA.dot(x)-(A.T).dot(B)))\n",
        "  iteration_count += 1\n",
        "\n",
        "fig.show()\n",
        "\n",
        "print(\"x: \",x);\n",
        "print(\"iterations:\",iteration_count) "
      ],
      "execution_count": null,
      "outputs": [
        {
          "output_type": "stream",
          "name": "stdout",
          "text": [
            "x:  [[0.4499692 ]\n",
            " [0.92503944]]\n",
            "iterations: 411\n"
          ]
        },
        {
          "output_type": "display_data",
          "data": {
            "text/plain": [
              "<Figure size 1152x576 with 2 Axes>"
            ],
            "image/png": "[encoded data removed]"
          },
          "metadata": {
            "needs_background": "light"
          }
        }
      ]
    },
    {
      "cell_type": "markdown",
      "metadata": {
        "id": "Clwi4uJEOCS2"
      },
      "source": [
        "## <font color='red'> **Problem 3)** \n",
        "Apply stochastic gradient algorithm on the given dataset and estimate $\\theta_0$, $\\theta_1$ and final cost value. Step by step hints have been given for the same.\n",
        "\n"
      ]
    },
    {
      "cell_type": "code",
      "metadata": {
        "id": "DPfkulVvygBR"
      },
      "source": [
        "import numpy as np\n",
        "import matplotlib.pyplot as plt\n",
        "%matplotlib inline"
      ],
      "execution_count": null,
      "outputs": []
    },
    {
      "cell_type": "code",
      "metadata": {
        "id": "dExBbEvOyhWt"
      },
      "source": [
        "plt.style.use(['ggplot'])"
      ],
      "execution_count": null,
      "outputs": []
    },
    {
      "cell_type": "markdown",
      "metadata": {
        "id": "OHh1zFq0-c76"
      },
      "source": [
        "1) Dataset:"
      ]
    },
    {
      "cell_type": "code",
      "metadata": {
        "id": "beRS_81TyrHb"
      },
      "source": [
        "X = 2 * np.random.rand(100,1)\n",
        "y = 4 + 3 * X + np.random.randn(100,1)"
      ],
      "execution_count": null,
      "outputs": []
    },
    {
      "cell_type": "markdown",
      "metadata": {
        "id": "p2rVmgvq-raO"
      },
      "source": [
        "2) Visualize the data."
      ]
    },
    {
      "cell_type": "code",
      "metadata": {
        "colab": {
          "base_uri": "https://localhost:8080/",
          "height": 265
        },
        "id": "zU_a7cJ2ysC8",
        "outputId": "4d52bf2d-d9dd-47e6-f626-b36697a84cf1"
      },
      "source": [
        "#Write code here\n",
        "plt.plot(X,y,'b.')\n",
        "X = np.reshape(X,(len(X),1))\n",
        "y = np.reshape(y,(len(y),1))"
      ],
      "execution_count": null,
      "outputs": [
        {
          "output_type": "display_data",
          "data": {
            "text/plain": [
              "<Figure size 432x288 with 1 Axes>"
            ],
            "image/png": "[encoded data removed]"
          },
          "metadata": {}
        }
      ]
    },
    {
      "cell_type": "markdown",
      "metadata": {
        "id": "nKh_nmd9-Zvg"
      },
      "source": [
        "3) We will write the line equation $y=m \\space x+c$ in machine learning form as $J(\\theta)=\\theta_1 X + \\theta_0$. Now choose one random sample $X_b$ (you can concatenate ones and $X$) and find $\\theta_{best} = (X_b^T X_b)^{-1}X_b^Ty$."
      ]
    },
    {
      "cell_type": "code",
      "metadata": {
        "colab": {
          "base_uri": "https://localhost:8080/"
        },
        "id": "eQ4qkWagy2NZ",
        "outputId": "590b9868-7766-4415-8f0d-4eb5c3b77071"
      },
      "source": [
        "#Write code here.\n",
        "X_b = np.c_[np.ones((len(X),1)),X]\n",
        "theta_best = np.linalg.inv(X_b.T@X_b) @ (X_b.T@y)\n",
        "print(theta_best)"
      ],
      "execution_count": null,
      "outputs": [
        {
          "output_type": "stream",
          "name": "stdout",
          "text": [
            "[[4.01786863]\n",
            " [3.01688254]]\n"
          ]
        }
      ]
    },
    {
      "cell_type": "markdown",
      "metadata": {
        "id": "Rpp2OH_WEGZj"
      },
      "source": [
        "4) For example choose $X_{new}=\\begin{bmatrix}\n",
        "0 \\\\\n",
        "2 \n",
        "\\end{bmatrix}$. Obtain $X_{new_b}$ by concatinating ones and $X_{new}$. Finally find $y_{predict}=X_{new_b}\\theta_{best}$."
      ]
    },
    {
      "cell_type": "code",
      "metadata": {
        "colab": {
          "base_uri": "https://localhost:8080/"
        },
        "id": "tOEj3eHnzDlW",
        "outputId": "506b0716-2a9b-4c19-8689-cccb0b8cddbc"
      },
      "source": [
        "#Write code here.\n",
        "X_new = np.matrix([[0],[2]])\n",
        "X_new_b = np.c_[[[1],[1]],X_new]\n",
        "y_predict = X_new_b@theta_best\n",
        "print(y_predict)"
      ],
      "execution_count": null,
      "outputs": [
        {
          "output_type": "stream",
          "name": "stdout",
          "text": [
            "[[ 4.01786863]\n",
            " [10.05163371]]\n"
          ]
        }
      ]
    },
    {
      "cell_type": "markdown",
      "metadata": {
        "id": "CIWx3hQhEtQb"
      },
      "source": [
        "5) Visualize $X_{new}$ and $y_{predict}$."
      ]
    },
    {
      "cell_type": "code",
      "metadata": {
        "colab": {
          "base_uri": "https://localhost:8080/",
          "height": 287
        },
        "id": "wQGrjNI1zFxB",
        "outputId": "3cf21041-b54a-4405-830b-1249771eff93"
      },
      "source": [
        "#Write code here.\n",
        "plt.plot(X_new,y_predict)\n",
        "plt.plot(X,y,'b.')\n",
        "plt.xlabel(\"$x_{new}$\",fontsize=18)\n",
        "plt.ylabel(\"$y_{predict}$\", rotation=90,fontsize=18)\n",
        "plt.show()"
      ],
      "execution_count": null,
      "outputs": [
        {
          "output_type": "display_data",
          "data": {
            "text/plain": [
              "<Figure size 432x288 with 1 Axes>"
            ],
            "image/png": "[encoded data removed]"
          },
          "metadata": {}
        }
      ]
    },
    {
      "cell_type": "markdown",
      "metadata": {
        "id": "qh56xsSVI4tl"
      },
      "source": [
        "6) Define the cost function."
      ]
    },
    {
      "cell_type": "code",
      "metadata": {
        "id": "2FooCPCQzKp-"
      },
      "source": [
        "def  cal_cost(theta,X,y):\n",
        "\n",
        "    m = len(y)\n",
        "    predictions = X.dot(theta)\n",
        "    cost = (1/2*m) * np.sum(np.square(predictions-y))\n",
        "    \n",
        "    return cost"
      ],
      "execution_count": null,
      "outputs": []
    },
    {
      "cell_type": "markdown",
      "metadata": {
        "id": "g1w82a2ZJSjy"
      },
      "source": [
        "7) Define the gradient descent function."
      ]
    },
    {
      "cell_type": "code",
      "metadata": {
        "id": "SeXRPqAezPEB"
      },
      "source": [
        "def gradient_descent(X,y,theta,learning_rate=0.01,iterations=100):\n",
        "    m = len(y)\n",
        "    cost_history = np.zeros(iterations)\n",
        "    theta_history = np.zeros((iterations,2))\n",
        "\n",
        "    for it in range(iterations):\n",
        "      prediction = np.dot(X,theta)\n",
        "      theta = theta -(1/m)*learning_rate*( X.T.dot((prediction - y)))\n",
        "      theta_history[it,:] =theta.T\n",
        "      cost_history[it]  = cal_cost(theta,X,y)\n",
        "      \n",
        "    return theta, cost_history, theta_history"
      ],
      "execution_count": null,
      "outputs": []
    },
    {
      "cell_type": "markdown",
      "metadata": {
        "id": "BJ8NKwEEJgl8"
      },
      "source": [
        "8) Using learning rate $0.01$ and $1000$ iterations find $\\theta_0$, $\\theta_1$ and final cost."
      ]
    },
    {
      "cell_type": "code",
      "metadata": {
        "colab": {
          "base_uri": "https://localhost:8080/"
        },
        "id": "arMN39vnzddI",
        "outputId": "fcf8f8dc-f921-4cf8-ea9b-528596e14cfd"
      },
      "source": [
        "lr =0.01\n",
        "n_iter = 1000\n",
        "\n",
        "theta = np.random.randn(2,1)\n",
        "\n",
        "X_b = np.c_[np.ones((len(X),1)),X]\n",
        "\n",
        "theta,cost_history,theta_history = gradient_descent(X_b,y,theta,lr,n_iter)\n",
        "\n",
        "\n",
        "print('Theta0:          {:0.3f},\\nTheta1:          {:0.3f}'.format(theta[0][0],theta[1][0]))\n",
        "print('Final cost/MSE:  {:0.3f}'.format(cost_history[-1]))"
      ],
      "execution_count": null,
      "outputs": [
        {
          "output_type": "stream",
          "name": "stdout",
          "text": [
            "Theta0:          3.758,\n",
            "Theta1:          3.238\n",
            "Final cost/MSE:  5683.309\n"
          ]
        }
      ]
    },
    {
      "cell_type": "markdown",
      "metadata": {
        "id": "RyC_bp3EJ03s"
      },
      "source": [
        "9) Plot $J(\\theta)$ and iterations."
      ]
    },
    {
      "cell_type": "code",
      "metadata": {
        "colab": {
          "base_uri": "https://localhost:8080/",
          "height": 518
        },
        "id": "tITfZuQHzlvl",
        "outputId": "c695f65a-ddc5-4ce6-a746-86acaf29c5b1"
      },
      "source": [
        "#Write code here.\n",
        "fig,ax = plt.subplots(figsize=(12,8))\n",
        "\n",
        "ax.set_ylabel('J(Theta)')\n",
        "ax.set_xlabel('Iterations')\n",
        "ax.plot(range(n_iter),cost_history,'b.')"
      ],
      "execution_count": null,
      "outputs": [
        {
          "output_type": "execute_result",
          "data": {
            "text/plain": [
              "[<matplotlib.lines.Line2D at 0x7fd2d05666d0>]"
            ]
          },
          "metadata": {},
          "execution_count": 60
        },
        {
          "output_type": "display_data",
          "data": {
            "text/plain": [
              "<Figure size 864x576 with 1 Axes>"
            ],
            "image/png": "[encoded data removed]"
          },
          "metadata": {}
        }
      ]
    },
    {
      "cell_type": "markdown",
      "metadata": {
        "id": "YqnQmj2gKOZQ"
      },
      "source": [
        "10) You can also observe the changes in cost function."
      ]
    },
    {
      "cell_type": "code",
      "metadata": {
        "colab": {
          "base_uri": "https://localhost:8080/",
          "height": 501
        },
        "id": "oH3k3daUzsZC",
        "outputId": "60312f67-6bc5-4b63-fe25-4139ef6aea7f"
      },
      "source": [
        "#Write code here.\n",
        "fig,ax = plt.subplots(figsize=(10,8))\n",
        "ax.plot(range(200),cost_history[:200],'b.')"
      ],
      "execution_count": null,
      "outputs": [
        {
          "output_type": "execute_result",
          "data": {
            "text/plain": [
              "[<matplotlib.lines.Line2D at 0x7fd2d1c03520>]"
            ]
          },
          "metadata": {},
          "execution_count": 62
        },
        {
          "output_type": "display_data",
          "data": {
            "text/plain": [
              "<Figure size 720x576 with 1 Axes>"
            ],
            "image/png": "[encoded data removed]"
          },
          "metadata": {}
        }
      ]
    },
    {
      "cell_type": "markdown",
      "metadata": {
        "id": "3AV6BfYYlzqD"
      },
      "source": [
        "## <font color='red'> **Problem 4)** \n",
        "Find minimum of the function $L(θ)$ = using stochastic gradient descent method (take the data from the excel sheet given). Choose different learning rates and number of iterations.\n",
        "\n"
      ]
    },
    {
      "cell_type": "code",
      "metadata": {
        "id": "CtwsPuEXl_g8",
        "colab": {
          "base_uri": "https://localhost:8080/",
          "height": 74
        },
        "outputId": "eb9a1284-6c01-429b-cdd1-b3e848ece071"
      },
      "source": [
        "import numpy as np\n",
        "import pandas as pd\n",
        "import matplotlib.pyplot as plt\n",
        "from mpl_toolkits.mplot3d import Axes3D\n",
        "import statistics as st\n",
        "import sympy as sy\n",
        "from google.colab import files\n",
        "uploaded = files.upload()"
      ],
      "execution_count": null,
      "outputs": [
        {
          "output_type": "display_data",
          "data": {
            "text/plain": [
              "<IPython.core.display.HTML object>"
            ],
            "text/html": [
              "\n",
              "     <input type=\"file\" id=\"files-e4e3521a-2ce2-4b3d-bac0-7f3aa68b703c\" name=\"files[]\" multiple disabled\n",
              "        style=\"border:none\" />\n",
              "     <output id=\"result-e4e3521a-2ce2-4b3d-bac0-7f3aa68b703c\">\n",
              "      Upload widget is only available when the cell has been executed in the\n",
              "      current browser session. Please rerun this cell to enable.\n",
              "      </output>\n",
              "      <script>// Copyright 2017 Google LLC\n",
              "//\n",
              "// Licensed under the Apache License, Version 2.0 (the \"License\");\n",
              "// you may not use this file except in compliance with the License.\n",
              "// You may obtain a copy of the License at\n",
              "//\n",
              "//      http://www.apache.org/licenses/LICENSE-2.0\n",
              "//\n",
              "// Unless required by applicable law or agreed to in writing, software\n",
              "// distributed under the License is distributed on an \"AS IS\" BASIS,\n",
              "// WITHOUT WARRANTIES OR CONDITIONS OF ANY KIND, either express or implied.\n",
              "// See the License for the specific language governing permissions and\n",
              "// limitations under the License.\n",
              "\n",
              "/**\n",
              " * @fileoverview Helpers for google.colab Python module.\n",
              " */\n",
              "(function(scope) {\n",
              "function span(text, styleAttributes = {}) {\n",
              "  const element = document.createElement('span');\n",
              "  element.textContent = text;\n",
              "  for (const key of Object.keys(styleAttributes)) {\n",
              "    element.style[key] = styleAttributes[key];\n",
              "  }\n",
              "  return element;\n",
              "}\n",
              "\n",
              "// Max number of bytes which will be uploaded at a time.\n",
              "const MAX_PAYLOAD_SIZE = 100 * 1024;\n",
              "\n",
              "function _uploadFiles(inputId, outputId) {\n",
              "  const steps = uploadFilesStep(inputId, outputId);\n",
              "  const outputElement = document.getElementById(outputId);\n",
              "  // Cache steps on the outputElement to make it available for the next call\n",
              "  // to uploadFilesContinue from Python.\n",
              "  outputElement.steps = steps;\n",
              "\n",
              "  return _uploadFilesContinue(outputId);\n",
              "}\n",
              "\n",
              "// This is roughly an async generator (not supported in the browser yet),\n",
              "// where there are multiple asynchronous steps and the Python side is going\n",
              "// to poll for completion of each step.\n",
              "// This uses a Promise to block the python side on completion of each step,\n",
              "// then passes the result of the previous step as the input to the next step.\n",
              "function _uploadFilesContinue(outputId) {\n",
              "  const outputElement = document.getElementById(outputId);\n",
              "  const steps = outputElement.steps;\n",
              "\n",
              "  const next = steps.next(outputElement.lastPromiseValue);\n",
              "  return Promise.resolve(next.value.promise).then((value) => {\n",
              "    // Cache the last promise value to make it available to the next\n",
              "    // step of the generator.\n",
              "    outputElement.lastPromiseValue = value;\n",
              "    return next.value.response;\n",
              "  });\n",
              "}\n",
              "\n",
              "/**\n",
              " * Generator function which is called between each async step of the upload\n",
              " * process.\n",
              " * @param {string} inputId Element ID of the input file picker element.\n",
              " * @param {string} outputId Element ID of the output display.\n",
              " * @return {!Iterable<!Object>} Iterable of next steps.\n",
              " */\n",
              "function* uploadFilesStep(inputId, outputId) {\n",
              "  const inputElement = document.getElementById(inputId);\n",
              "  inputElement.disabled = false;\n",
              "\n",
              "  const outputElement = document.getElementById(outputId);\n",
              "  outputElement.innerHTML = '';\n",
              "\n",
              "  const pickedPromise = new Promise((resolve) => {\n",
              "    inputElement.addEventListener('change', (e) => {\n",
              "      resolve(e.target.files);\n",
              "    });\n",
              "  });\n",
              "\n",
              "  const cancel = document.createElement('button');\n",
              "  inputElement.parentElement.appendChild(cancel);\n",
              "  cancel.textContent = 'Cancel upload';\n",
              "  const cancelPromise = new Promise((resolve) => {\n",
              "    cancel.onclick = () => {\n",
              "      resolve(null);\n",
              "    };\n",
              "  });\n",
              "\n",
              "  // Wait for the user to pick the files.\n",
              "  const files = yield {\n",
              "    promise: Promise.race([pickedPromise, cancelPromise]),\n",
              "    response: {\n",
              "      action: 'starting',\n",
              "    }\n",
              "  };\n",
              "\n",
              "  cancel.remove();\n",
              "\n",
              "  // Disable the input element since further picks are not allowed.\n",
              "  inputElement.disabled = true;\n",
              "\n",
              "  if (!files) {\n",
              "    return {\n",
              "      response: {\n",
              "        action: 'complete',\n",
              "      }\n",
              "    };\n",
              "  }\n",
              "\n",
              "  for (const file of files) {\n",
              "    const li = document.createElement('li');\n",
              "    li.append(span(file.name, {fontWeight: 'bold'}));\n",
              "    li.append(span(\n",
              "        `(${file.type || 'n/a'}) - ${file.size} bytes, ` +\n",
              "        `last modified: ${\n",
              "            file.lastModifiedDate ? file.lastModifiedDate.toLocaleDateString() :\n",
              "                                    'n/a'} - `));\n",
              "    const percent = span('0% done');\n",
              "    li.appendChild(percent);\n",
              "\n",
              "    outputElement.appendChild(li);\n",
              "\n",
              "    const fileDataPromise = new Promise((resolve) => {\n",
              "      const reader = new FileReader();\n",
              "      reader.onload = (e) => {\n",
              "        resolve(e.target.result);\n",
              "      };\n",
              "      reader.readAsArrayBuffer(file);\n",
              "    });\n",
              "    // Wait for the data to be ready.\n",
              "    let fileData = yield {\n",
              "      promise: fileDataPromise,\n",
              "      response: {\n",
              "        action: 'continue',\n",
              "      }\n",
              "    };\n",
              "\n",
              "    // Use a chunked sending to avoid message size limits. See b/62115660.\n",
              "    let position = 0;\n",
              "    do {\n",
              "      const length = Math.min(fileData.byteLength - position, MAX_PAYLOAD_SIZE);\n",
              "      const chunk = new Uint8Array(fileData, position, length);\n",
              "      position += length;\n",
              "\n",
              "      const base64 = btoa(String.fromCharCode.apply(null, chunk));\n",
              "      yield {\n",
              "        response: {\n",
              "          action: 'append',\n",
              "          file: file.name,\n",
              "          data: base64,\n",
              "        },\n",
              "      };\n",
              "\n",
              "      let percentDone = fileData.byteLength === 0 ?\n",
              "          100 :\n",
              "          Math.round((position / fileData.byteLength) * 100);\n",
              "      percent.textContent = `${percentDone}% done`;\n",
              "\n",
              "    } while (position < fileData.byteLength);\n",
              "  }\n",
              "\n",
              "  // All done.\n",
              "  yield {\n",
              "    response: {\n",
              "      action: 'complete',\n",
              "    }\n",
              "  };\n",
              "}\n",
              "\n",
              "scope.google = scope.google || {};\n",
              "scope.google.colab = scope.google.colab || {};\n",
              "scope.google.colab._files = {\n",
              "  _uploadFiles,\n",
              "  _uploadFilesContinue,\n",
              "};\n",
              "})(self);\n",
              "</script> "
            ]
          },
          "metadata": {}
        },
        {
          "output_type": "stream",
          "name": "stdout",
          "text": [
            "Saving SRUSHTI SHANKARBHAI RATHVA - data.csv to SRUSHTI SHANKARBHAI RATHVA - data.csv\n"
          ]
        }
      ]
    },
    {
      "cell_type": "code",
      "metadata": {
        "id": "01knFQHcWPPA",
        "colab": {
          "base_uri": "https://localhost:8080/"
        },
        "outputId": "11701d10-ca09-48f8-96d1-228e8859d77e"
      },
      "source": [
        "import random\n",
        "\n",
        "def stepSize(x,y,theta,alpha):\n",
        "  step_size=np.zeros((2,1))\n",
        "  step_size[1]= alpha*(-2*(y-(theta[0]*x+theta[1])))\n",
        "  step_size[0]= step_size[1]*x\n",
        "  return step_size\n",
        "\n",
        "#Read the excel sheet given\n",
        "#x = np.array(df['x'])\n",
        "#y = np.array(df['y'])\n",
        "#noralize x\n",
        "\n",
        "theta1 = 1000\n",
        "theta2 = 500\n",
        "\n",
        "eps = 1e-6\n",
        "alpha = 0.01\n",
        "cnt = 0\n",
        "\n",
        "df = pd.read_csv(\"data.csv\")\n",
        "z = np.polyfit(np.array(df['x']),np.array(df['y']),1)\n",
        "print(z)\n",
        "\n",
        "X = np.array(df['x']).reshape(-1,1)\n",
        "Y = np.array(df['y']).reshape(-1,1)\n",
        "X = (X - np.mean(X))/np.std(X)\n",
        "Y = (Y - np.mean(Y))/np.std(Y)\n",
        "\n",
        "theta = np.array([[theta1],[theta2]])\n",
        "previous_theta = theta+1\n",
        "\n",
        "# use while loop for |prev1-theta1| >= eps or |prev2-theta2| >= eps:\n",
        "iteration_count = 0\n",
        "while (abs(theta-previous_theta)>eps).any() and iteration_count<1000:\n",
        "  p = random.randint(0,93)\n",
        "  x = X[p]\n",
        "  y = Y[p]\n",
        "  step_size = stepSize(x,y,theta,alpha)\n",
        "  previous_theta = copy.deepcopy(theta)\n",
        "  theta = theta-step_size\n",
        "  iteration_count += 1\n",
        "       \n",
        "print(\"theta: \",theta)\n",
        "print(\"iterations: \",iteration_count)"
      ],
      "execution_count": null,
      "outputs": [
        {
          "output_type": "stream",
          "name": "stdout",
          "text": [
            "[-8.61193478e-03  4.92376299e+01]\n",
            "theta:  [[-0.86869026]\n",
            " [-0.00720623]]\n",
            "iterations:  1000\n"
          ]
        }
      ]
    }
  ]
}