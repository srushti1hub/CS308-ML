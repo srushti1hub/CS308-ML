{
  "nbformat": 4,
  "nbformat_minor": 0,
  "metadata": {
    "colab": {
      "provenance": []
    },
    "kernelspec": {
      "display_name": "Python 3",
      "language": "python",
      "name": "python3"
    },
    "language_info": {
      "codemirror_mode": {
        "name": "ipython",
        "version": 3
      },
      "file_extension": ".py",
      "mimetype": "text/x-python",
      "name": "python",
      "nbconvert_exporter": "python",
      "pygments_lexer": "ipython3",
      "version": "3.8.5"
    }
  },
  "cells": [
    {
      "cell_type": "markdown",
      "metadata": {
        "id": "J59uxyWVDHIH"
      },
      "source": [
        "# <center> IIIT Vadodara </center>\n",
        "## <center> Winter 2022-23 </center>\n",
        "## <center> CS/IT 308 Machine Learning Lab </center>\n",
        "## <center> Lab#4 MMSE, Linear regression, and Logistic regression</center>"
      ]
    },
    {
      "cell_type": "code",
      "metadata": {
        "id": "avzQ8wuovv0r"
      },
      "source": [
        "%matplotlib inline\n",
        "import numpy as np\n",
        "import matplotlib.pyplot as plt\n",
        "from mpl_toolkits import mplot3d\n",
        "from scipy import misc\n",
        "from numpy import linalg as la\n",
        "import matplotlib.image as mpimg\n",
        "import glob\n",
        "from numpy import linalg as LA\n",
        "import scipy.io as sio "
      ],
      "execution_count": null,
      "outputs": []
    },
    {
      "cell_type": "markdown",
      "metadata": {
        "id": "Ul9TzH7FarSJ"
      },
      "source": [
        "## <font color='blue'> MMSE\n",
        "\n",
        "---\n",
        "\n",
        "Refer class note\n",
        "\n"
      ]
    },
    {
      "cell_type": "markdown",
      "metadata": {
        "id": "9LxANVCMGpeg"
      },
      "source": [
        "## <font color='red'> 1. Find the minimum mean squared error (MMSE) on following data."
      ]
    },
    {
      "cell_type": "code",
      "metadata": {
        "colab": {
          "base_uri": "https://localhost:8080/"
        },
        "id": "29q1QCGfGoji",
        "outputId": "214a986f-d24b-4500-b725-33ddb1edb8e0"
      },
      "source": [
        "y = [11,20,19,17,10]\n",
        "y_bar = [12,18,19.5,18,9]\n",
        "\n",
        "# MSE = 1/N (Y-Y')^2\n",
        "mse = np.square(np.subtract(y,y_bar)).mean()\n",
        "print (\"MSE : \" , mse)"
      ],
      "execution_count": null,
      "outputs": [
        {
          "output_type": "stream",
          "name": "stdout",
          "text": [
            "MSE :  1.45\n"
          ]
        }
      ]
    },
    {
      "cell_type": "markdown",
      "metadata": {
        "id": "mSc_Dw5NIEQR"
      },
      "source": [
        "## <font color='red'> 2 Given a sample space $S_{XY}={(0,0),(1,1),(2,2),(2,3)}$, with equiprobable outcomes, i.e., $p(0,0)=p(1,1)=p(2,2)=p(2,3)=\\frac{1}{4}$. Estimate $\\hat{Y}$ given X.\n",
        "\n",
        "\n",
        "$$\\hat{Y}=E(Y)+\\frac{COV(X,Y)}{VAR(X)}(X-E(X))$$\n",
        "\n",
        "Also calculate the mean squared error between $\\hat{Y}$ and $Y$.\n",
        "\n",
        "\n",
        "Hint: You can use the classnotes for help."
      ]
    },
    {
      "cell_type": "code",
      "metadata": {
        "id": "_DVM24iIOLvs",
        "colab": {
          "base_uri": "https://localhost:8080/"
        },
        "outputId": "cb24278a-be77-45d7-dd01-687dc6854205"
      },
      "source": [
        "#write code here\n",
        "sx = np.array([0,1,2,2])\n",
        "sy = np.array([0,1,2,3])\n",
        "p = 0.25\n",
        "\n",
        "# Calculate Expected Values of X and Y\n",
        "Ex = p*np.sum(sx)\n",
        "Ey = p*np.sum(sy)\n",
        "print(\"E(X) : \",Ex)\n",
        "print(\"E(Y) : \",Ey)\n",
        "\n",
        "# Calculate VAR(X)\n",
        "Ex2 = p*np.sum(np.square(sx))\n",
        "VARx = np.subtract(Ex2,np.square(Ex))\n",
        "print(\"E(X^2) : \",Ex2)\n",
        "print(\"VAR(X) : \",VARx)\n",
        "\n",
        "# Calculate Covariance COV(X,Y)\n",
        "Exy = p*np.sum(np.dot(sx,sy)) \n",
        "Covxy = Exy - np.dot(Ex,Ey)\n",
        "print(\"E(XY) : \",Exy)\n",
        "print(\"COV(X,Y) : \",Covxy)\n",
        "\n",
        "# Estimating Y'\n",
        "y_bar = Ey + (Covxy/VARx) * (sx-Ex)\n",
        "print(\"Y' : \",y_bar)\n",
        "\n",
        "# Calculate MSE\n",
        "mse = np.square(np.subtract(sy,y_bar)).mean()\n",
        "print(\"MSE : \",mse)"
      ],
      "execution_count": null,
      "outputs": [
        {
          "output_type": "stream",
          "name": "stdout",
          "text": [
            "E(X) :  1.25\n",
            "E(Y) :  1.5\n",
            "E(X^2) :  2.25\n",
            "VAR(X) :  0.6875\n",
            "E(XY) :  2.75\n",
            "COV(X,Y) :  0.875\n",
            "Y' :  [-0.09090909  1.18181818  2.45454545  2.45454545]\n",
            "MSE :  0.13636363636363635\n"
          ]
        }
      ]
    },
    {
      "cell_type": "markdown",
      "metadata": {
        "id": "sA91hARzDHIN"
      },
      "source": [
        "## <font color='blue'> Linear regression\n",
        "\n",
        "---\n",
        "\n",
        "Refer class note\n",
        "\n"
      ]
    },
    {
      "cell_type": "markdown",
      "metadata": {
        "id": "A_AErP9zTzhW"
      },
      "source": [
        "## <font color='red'> 3. Perform linear regression on the given dataset and observe underfitting and overfitting capacity of the function."
      ]
    },
    {
      "cell_type": "code",
      "metadata": {
        "colab": {
          "base_uri": "https://localhost:8080/"
        },
        "id": "ece3rfGPDHIO",
        "outputId": "2da849ab-6e0a-4000-db3c-603fb4d1ec0c"
      },
      "source": [
        "#example of dataset:\n",
        "no_samples = 10\n",
        "\n",
        "#Generate n = np.random.rand(no_samples) # Here data is zero mean\n",
        "n = np.random.rand(no_samples)\n",
        "n = n - n.mean()\n",
        "print(n)\n",
        "\n",
        "#Generate x between 0 and 2 using number of smaples\n",
        "x = np.linspace(0,2,no_samples)\n",
        "print(x)\n",
        "\n",
        "#Generate function y dependent on x and n: y = x**2+2*n\n",
        "y = x**2 + 2*n\n",
        "print(y)"
      ],
      "execution_count": null,
      "outputs": [
        {
          "output_type": "stream",
          "name": "stdout",
          "text": [
            "[-0.14450077 -0.08168504 -0.06896936  0.05451061  0.35285327 -0.22216579\n",
            "  0.4230696  -0.3780174   0.16172521 -0.09682032]\n",
            "[0.         0.22222222 0.44444444 0.66666667 0.88888889 1.11111111\n",
            " 1.33333333 1.55555556 1.77777778 2.        ]\n",
            "[-0.28900155 -0.11398737  0.05959214  0.55346567  1.49582999  0.79023631\n",
            "  2.62391698  1.66371828  3.48394425  3.80635936]\n"
          ]
        }
      ]
    },
    {
      "cell_type": "code",
      "metadata": {
        "colab": {
          "base_uri": "https://localhost:8080/",
          "height": 287
        },
        "id": "oXhg_EyRDHIO",
        "outputId": "238ec8f9-b8dd-4412-a820-87987ee949c2"
      },
      "source": [
        "# code to scatter plot x and y\n",
        "\n",
        "plt.scatter(x,y)\n"
      ],
      "execution_count": null,
      "outputs": [
        {
          "output_type": "execute_result",
          "data": {
            "text/plain": [
              "<matplotlib.collections.PathCollection at 0x7f9474d6f460>"
            ]
          },
          "metadata": {},
          "execution_count": 5
        },
        {
          "output_type": "display_data",
          "data": {
            "text/plain": [
              "<Figure size 432x288 with 1 Axes>"
            ],
            "image/png": "[encoded data removed]"
          },
          "metadata": {
            "needs_background": "light"
          }
        }
      ]
    },
    {
      "cell_type": "markdown",
      "metadata": {
        "id": "FRn1fNC3V6A2"
      },
      "source": [
        "#### Hint: Pseudo inverse\n",
        " $$Y = W^TX$$\n",
        " $$W = (X^TX)^{-1}X^TY$$ "
      ]
    },
    {
      "cell_type": "markdown",
      "metadata": {
        "id": "Q2hKjTtGW1_Q"
      },
      "source": [
        "1. Take $y = \\theta_0 + \\theta_1 x$"
      ]
    },
    {
      "cell_type": "code",
      "metadata": {
        "colab": {
          "base_uri": "https://localhost:8080/"
        },
        "id": "t314LgujDfsU",
        "outputId": "bfc087bf-c438-4dbd-c452-992576dfb82b"
      },
      "source": [
        "#Generate X1 by concatinating ones and x as shown in output\n",
        "temp = np.ones((10), dtype=float)\n",
        "X1 = np.column_stack((temp,x))\n",
        "\n",
        "#Find W1 using pseudo inverse\n",
        "W1 = la.inv(X1.T@X1)@X1.T@y\n",
        "\n",
        "print(X1)\n",
        "print(W1)"
      ],
      "execution_count": null,
      "outputs": [
        {
          "output_type": "stream",
          "name": "stdout",
          "text": [
            "[[1.         0.        ]\n",
            " [1.         0.22222222]\n",
            " [1.         0.44444444]\n",
            " [1.         0.66666667]\n",
            " [1.         0.88888889]\n",
            " [1.         1.11111111]\n",
            " [1.         1.33333333]\n",
            " [1.         1.55555556]\n",
            " [1.         1.77777778]\n",
            " [1.         2.        ]]\n",
            "[-0.65359697  2.06100437]\n"
          ]
        }
      ]
    },
    {
      "cell_type": "markdown",
      "metadata": {
        "id": "QSz_j96NXFrl"
      },
      "source": [
        "2. Take $y = \\theta_0 + \\theta_1 x + \\theta_2 x^2 +\\theta_3 x^3 +\\theta_4 x^4+\\theta_5 x^5$"
      ]
    },
    {
      "cell_type": "code",
      "metadata": {
        "id": "k15lcMq9GqY5",
        "colab": {
          "base_uri": "https://localhost:8080/"
        },
        "outputId": "1b067e3e-ea50-4d15-aaae-f6fb762d3ea4"
      },
      "source": [
        "#Generate X2 by concatinating ones,x,x**2,x**3,x**4,x**5 \n",
        "temp = np.ones((10), dtype=float)\n",
        "X2 = np.column_stack((temp,x,x**2,x**3,x**4,x**5))\n",
        "\n",
        "#Generate W2 using: W2= la.inv(X2.T@X2)@X2.T@y\n",
        "W2 = la.inv(X2.T@X2)@X2.T@y\n",
        "\n",
        "print(X2)\n",
        "print(W2)"
      ],
      "execution_count": null,
      "outputs": [
        {
          "output_type": "stream",
          "name": "stdout",
          "text": [
            "[[1.00000000e+00 0.00000000e+00 0.00000000e+00 0.00000000e+00\n",
            "  0.00000000e+00 0.00000000e+00]\n",
            " [1.00000000e+00 2.22222222e-01 4.93827160e-02 1.09739369e-02\n",
            "  2.43865264e-03 5.41922810e-04]\n",
            " [1.00000000e+00 4.44444444e-01 1.97530864e-01 8.77914952e-02\n",
            "  3.90184423e-02 1.73415299e-02]\n",
            " [1.00000000e+00 6.66666667e-01 4.44444444e-01 2.96296296e-01\n",
            "  1.97530864e-01 1.31687243e-01]\n",
            " [1.00000000e+00 8.88888889e-01 7.90123457e-01 7.02331962e-01\n",
            "  6.24295077e-01 5.54928957e-01]\n",
            " [1.00000000e+00 1.11111111e+00 1.23456790e+00 1.37174211e+00\n",
            "  1.52415790e+00 1.69350878e+00]\n",
            " [1.00000000e+00 1.33333333e+00 1.77777778e+00 2.37037037e+00\n",
            "  3.16049383e+00 4.21399177e+00]\n",
            " [1.00000000e+00 1.55555556e+00 2.41975309e+00 3.76406036e+00\n",
            "  5.85520500e+00 9.10809667e+00]\n",
            " [1.00000000e+00 1.77777778e+00 3.16049383e+00 5.61865569e+00\n",
            "  9.98872123e+00 1.77577266e+01]\n",
            " [1.00000000e+00 2.00000000e+00 4.00000000e+00 8.00000000e+00\n",
            "  1.60000000e+01 3.20000000e+01]]\n",
            "[ -0.25311796  -1.9140245   11.45391561 -14.01828816   7.31796426\n",
            "  -1.33743825]\n"
          ]
        }
      ]
    },
    {
      "cell_type": "markdown",
      "metadata": {
        "id": "O8dE-LFTXjlg"
      },
      "source": [
        "3. Take $y = \\theta_0 + \\theta_1 x + \\theta_2 x^2 $"
      ]
    },
    {
      "cell_type": "code",
      "metadata": {
        "id": "TzezcIs1EKyU",
        "colab": {
          "base_uri": "https://localhost:8080/"
        },
        "outputId": "9aa3df59-978a-4bdc-98ee-a8207b29ad15"
      },
      "source": [
        "#Generate X3 by concatinating ones,x,x**2 \n",
        "temp = np.ones((10), dtype=float)\n",
        "X3 = np.column_stack((temp,x,x**2))\n",
        "\n",
        "#Generate W3 using: W3= la.inv(X3.T@X3)@X3.T@y\n",
        "W3 = la.inv(X3.T@X3)@X3.T@y\n",
        "\n",
        "print(X3)\n",
        "print(W3)"
      ],
      "execution_count": null,
      "outputs": [
        {
          "output_type": "stream",
          "name": "stdout",
          "text": [
            "[[1.         0.         0.        ]\n",
            " [1.         0.22222222 0.04938272]\n",
            " [1.         0.44444444 0.19753086]\n",
            " [1.         0.66666667 0.44444444]\n",
            " [1.         0.88888889 0.79012346]\n",
            " [1.         1.11111111 1.2345679 ]\n",
            " [1.         1.33333333 1.77777778]\n",
            " [1.         1.55555556 2.41975309]\n",
            " [1.         1.77777778 3.16049383]\n",
            " [1.         2.         4.        ]]\n",
            "[-0.31521801  0.9189754   0.57101449]\n"
          ]
        }
      ]
    },
    {
      "cell_type": "code",
      "metadata": {
        "colab": {
          "base_uri": "https://localhost:8080/",
          "height": 283
        },
        "id": "FTXLSaztFzlZ",
        "outputId": "6d8b36d9-ca53-4bd1-b25d-65dbcbdc1f77"
      },
      "source": [
        "fig = plt.figure()\n",
        "plt.scatter(x,y)\n",
        "\n",
        "#Generate y_p1 = X1@W1\n",
        "#Generate y_p2 = X2@W2\n",
        "#Generate y_p3 = X3@W3\n",
        "y_p1 = X1@W1\n",
        "y_p2 = X2@W2\n",
        "y_p3 = X3@W3\n",
        "\n",
        "\n",
        "#Plot x,y_p1\n",
        "#plot x,y_p2\n",
        "#plot x,y_p3\n",
        "plt.plot(x,y_p1,label=\"line\")\n",
        "plt.plot(x,y_p2,label=\"higher degree polynomial\")\n",
        "plt.plot(x,y_p3,label=\"second degree polynomial\")\n",
        "plt.legend()"
      ],
      "execution_count": null,
      "outputs": [
        {
          "output_type": "execute_result",
          "data": {
            "text/plain": [
              "<matplotlib.legend.Legend at 0x7f9474896a60>"
            ]
          },
          "metadata": {},
          "execution_count": 10
        },
        {
          "output_type": "display_data",
          "data": {
            "text/plain": [
              "<Figure size 432x288 with 1 Axes>"
            ],
            "image/png": "[encoded data removed]"
          },
          "metadata": {
            "needs_background": "light"
          }
        }
      ]
    },
    {
      "cell_type": "markdown",
      "metadata": {
        "id": "elPPF--j54CE"
      },
      "source": [
        "## <font color='blue'> Brief about **Gradient descent**:\n",
        "---\n",
        "\n",
        "\n",
        "Given a system $Ax=b$, we find $x$ for given observations $b$ and coeffiecient matrix $A$. When $b$ is not in column space of $A$, then $Ax \\neq b$ and we need to find $x$ in such a way that $Ax \\approx b$.\n",
        "\n",
        "<br>\n",
        "Linear least square is one of the methods to estimate $x$ by minimizing the mean square error as, $\\min ||Ax-b||_2$. This can be written as,\n",
        "        \n",
        "$\\underset{x}{\\mathrm{argmin}}||Ax-b||_{2}^{2} = f(x)$\n",
        "\n",
        "We need to find $x$ in such a way that $f(x)$ will be minimum in $L_2$ norm. \n",
        "\n",
        "<br>\n",
        "\n",
        "\n",
        "We will solve this by applying gradient descent algortithm on $f(x)$. \n",
        "<br>\n",
        "To apply this algorithm we need to find gradient of the function, i.e.,\n",
        "<br>\n",
        "              $\\Delta_x f(x)= A^T(Ax-b) = A^TAx-A^Tb$\n",
        "\n",
        "<br>\n",
        "\n",
        "\n",
        "Optimisation for least-squares\n",
        "<br>\n",
        "$||A^TAx-A^Tb||_2>\\delta$, $\\delta$ is the small positive number indicating tolerance.\n",
        "\n",
        "<br>\n",
        "\n",
        "Now we will find new x iteratively using step size $\\alpha$ to find the best fit for $AX=b$ as:\n",
        "\n",
        "<br>\n",
        "$x^{[n+1]}=x^{[n]}-\\alpha (A^TAx-A^Tb)$.\n",
        "<br>\n",
        "\n",
        "We need to choose $\\alpha$, $\\delta$ and $x^{[0]}$ to iterate until $x^{[n+1]} \\rightarrow x^{[n]}$."
      ]
    },
    {
      "cell_type": "markdown",
      "metadata": {
        "id": "5RHmtTp_2rD-"
      },
      "source": [
        "##  <font color='blue'> Logistic regression\n",
        "\n",
        "---\n",
        "Cost funcion for logistic regression,\n",
        "$$\n",
        "\\begin{aligned}\n",
        "J(\\theta) &=\\frac{1}{m} \\sum_{i=1}^{m} \\cos t\\left(h_{\\theta}\\left(x^{i}\\right), y^{\\prime}\\right) \\\\\n",
        "&=-\\frac{1}{m}\\left[\\sum_{i=1}^{m} y^{i} \\log h_{\\theta}\\left(x^{i}\\right)+\\left(1-y^{i}\\right)\\right.\\log \\left(1-\\log \\left(x^{i}\\right)\\right]\\\\\n",
        "h(x)&=\\frac{1}{1+e^{-\\Theta^Tx}}\n",
        "\\end{aligned}\n",
        "$$\n",
        "So, using gradient descent\n",
        "$$\n",
        "\\Theta_{i+1}=\\Theta_{i}-\\frac{\\alpha}{m} \\sum_{i=1}^{m}\\left(h\\left(x^{i} \\Theta\\right)-y^{i}\\right)\n",
        "$$\n",
        "iterate till $$\n",
        "\\Theta_{i+1} \\cong \\Theta_{i}\n",
        "$$\n",
        "\n",
        "\n"
      ]
    },
    {
      "cell_type": "markdown",
      "metadata": {
        "id": "bmByR5kGEznY"
      },
      "source": [
        "## <font color='red'> 4. Perform logistic regression on the dataset given below.\n",
        "Here, to classify 2D data,\n",
        "decision line can be given as,\n",
        "$$\\theta_0+\\theta_1x+\\theta_2y=0$$\n",
        "Let, $$\\Theta^T=\\begin{bmatrix}\n",
        "\\theta_0\\\\\n",
        "\\theta_1\\\\\n",
        "\\theta_2\n",
        "\\end{bmatrix}$$"
      ]
    },
    {
      "cell_type": "code",
      "metadata": {
        "colab": {
          "base_uri": "https://localhost:8080/"
        },
        "id": "z5jBd5UfOKPK",
        "outputId": "6b3e9884-8993-4b2a-9d0b-18c463d860fa"
      },
      "source": [
        "#Dataset example\n",
        "X = np.array([[0,0,0],[0,1,0],[0,2,0],[0,3,1],[1,0,0],[1,1,0],[1,2,1],[1,3,1],[2,0,0],[2,1,1],[2,2,1],[2,3,1]])\n",
        "Xb = X\n",
        "print(\"x|y|class\")\n",
        "print(Xb)"
      ],
      "execution_count": null,
      "outputs": [
        {
          "output_type": "stream",
          "name": "stdout",
          "text": [
            "x|y|class\n",
            "[[0 0 0]\n",
            " [0 1 0]\n",
            " [0 2 0]\n",
            " [0 3 1]\n",
            " [1 0 0]\n",
            " [1 1 0]\n",
            " [1 2 1]\n",
            " [1 3 1]\n",
            " [2 0 0]\n",
            " [2 1 1]\n",
            " [2 2 1]\n",
            " [2 3 1]]\n"
          ]
        }
      ]
    },
    {
      "cell_type": "code",
      "metadata": {
        "colab": {
          "base_uri": "https://localhost:8080/",
          "height": 265
        },
        "id": "FCTOtJI2OKPK",
        "outputId": "46961793-031d-42d5-a6ef-04171c6be471"
      },
      "source": [
        "#Generate scatter plot of X\n",
        "uq = np.unique(X[:,-1])\n",
        "for i in uq:\n",
        "    cl1 = X[X[:,-1]==i]\n",
        "    plt.scatter(cl1[:,0], cl1[:,1],linewidth=10)"
      ],
      "execution_count": null,
      "outputs": [
        {
          "output_type": "display_data",
          "data": {
            "text/plain": [
              "<Figure size 432x288 with 1 Axes>"
            ],
            "image/png": "[encoded data removed]"
          },
          "metadata": {
            "needs_background": "light"
          }
        }
      ]
    },
    {
      "cell_type": "code",
      "metadata": {
        "id": "8nFt5IMZOKPL"
      },
      "source": [
        "# Generate X by concatinating ones and X\n",
        "X1 = np.column_stack((np.ones(12),X))\n",
        "X2 = X1[:,:-1]\n",
        "Xc = X1[:,-1]\n",
        "\n",
        "def getcost(X,theta):\n",
        "  cost = 1/(1+np.exp(X@theta))\n",
        "  return cost"
      ],
      "execution_count": null,
      "outputs": []
    },
    {
      "cell_type": "code",
      "metadata": {
        "colab": {
          "base_uri": "https://localhost:8080/"
        },
        "id": "7pkIlNlSyP1h",
        "outputId": "e7d0089f-211b-40c9-f3e5-b88090801e10"
      },
      "source": [
        "#write code for gradient descent to find thetas\n",
        "theta = np.random.normal(size=(3, 1))\n",
        "learning_rate = 0.01\n",
        "\n",
        "for it in range(500):\n",
        "    for i in range(len(X1)):\n",
        "        cost = getcost(X2[i], theta)\n",
        "        for j in range(len(X2[i])):\n",
        "            theta[j] += learning_rate * (cost - Xc[i]) * X2[i][j]\n",
        "\n",
        "print(\"theta : \\n\", theta)"
      ],
      "execution_count": null,
      "outputs": [
        {
          "output_type": "stream",
          "name": "stdout",
          "text": [
            "theta : \n",
            " [[ 3.7727444 ]\n",
            " [-1.33542267]\n",
            " [-1.83206647]]\n"
          ]
        }
      ]
    },
    {
      "cell_type": "code",
      "metadata": {
        "colab": {
          "base_uri": "https://localhost:8080/",
          "height": 265
        },
        "id": "iefMj3P58Ami",
        "outputId": "ba395ae1-b602-47d2-a229-4e56825edb5a"
      },
      "source": [
        "#plot decision boundry \n",
        "Y = -(theta[0] + theta[1]*X1[:,1])/theta[2]\n",
        "plt.figure()\n",
        "for i in range(len(X)):\n",
        "  if X1[i][3] == 0:\n",
        "    plt.scatter(X1[i][1],X1[i][2],c = 'ORANGE',linewidth=10)\n",
        "  elif X1[i][3] == 1:\n",
        "    plt.scatter(X1[i][1],X1[i][2],c = 'BLUE',linewidth=10)\n",
        "plt.plot(X1[:,1],Y)\n",
        "plt.show()"
      ],
      "execution_count": null,
      "outputs": [
        {
          "output_type": "display_data",
          "data": {
            "text/plain": [
              "<Figure size 432x288 with 1 Axes>"
            ],
            "image/png": "[encoded data removed]"
          },
          "metadata": {
            "needs_background": "light"
          }
        }
      ]
    }
  ]
}